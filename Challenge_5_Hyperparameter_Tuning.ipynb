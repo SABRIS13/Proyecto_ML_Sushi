{
  "nbformat": 4,
  "nbformat_minor": 0,
  "metadata": {
    "colab": {
      "provenance": [],
      "collapsed_sections": []
    },
    "kernelspec": {
      "name": "python3",
      "display_name": "Python 3"
    },
    "language_info": {
      "name": "python"
    }
  },
  "cells": [
    {
      "cell_type": "markdown",
      "source": [
        "## SETUP"
      ],
      "metadata": {
        "id": "9wdyJvOPz-Dq"
      }
    },
    {
      "cell_type": "code",
      "metadata": {
        "id": "wtvP8YUSgoxm"
      },
      "source": [
        "import numpy as np\n",
        "import pandas as pd\n",
        "import matplotlib.pyplot as plt\n",
        "from scipy import stats\n",
        "\n",
        "from sklearn.datasets import load_breast_cancer, load_boston\n",
        "\n",
        "from sklearn.ensemble import (RandomForestClassifier, \n",
        "                              GradientBoostingClassifier, \n",
        "                              GradientBoostingRegressor)\n",
        "\n",
        "from sklearn.linear_model import LogisticRegression\n",
        "\n",
        "from sklearn.metrics import ( \n",
        "    accuracy_score, \n",
        "    precision_score, \n",
        "    recall_score, \n",
        "    f1_score, \n",
        "    classification_report, \n",
        "    roc_auc_score,\n",
        "    \n",
        "    mean_squared_error)\n",
        "\n",
        "from sklearn.model_selection import (\n",
        "    KFold,\n",
        "    cross_validate,\n",
        "    train_test_split,\n",
        "    GridSearchCV,\n",
        "    RandomizedSearchCV\n",
        ")"
      ],
      "execution_count": 2,
      "outputs": []
    },
    {
      "cell_type": "markdown",
      "source": [
        "Cargamos datos para ejemplificar"
      ],
      "metadata": {
        "id": "FSN8-dcO0D8q"
      }
    },
    {
      "cell_type": "code",
      "source": [
        "# Cargamos los datos\n",
        "breast_cancer_X, breast_cancer_y = load_breast_cancer(return_X_y=True)\n",
        "\n",
        "X = pd.DataFrame(breast_cancer_X)\n",
        "y = pd.Series(breast_cancer_y).map({0:1, 1:0})\n",
        "\n",
        "# Partimos en train y test\n",
        "\n",
        "X_train, X_test, y_train, y_test = train_test_split(X, y, \n",
        "                                                    test_size=0.3, \n",
        "                                                    random_state=0)"
      ],
      "metadata": {
        "id": "X3b4qf5kzj07"
      },
      "execution_count": 3,
      "outputs": []
    },
    {
      "cell_type": "markdown",
      "source": [
        "## __`Busquedas manuales`__"
      ],
      "metadata": {
        "id": "BOkSlAPyyylu"
      }
    },
    {
      "cell_type": "markdown",
      "source": [
        "Es la forma más simple de buscar hiperparametros, solo consiste en variar manualmente los valores y estudiar los resultados finales de cada combinación probada"
      ],
      "metadata": {
        "id": "OimcOwkA2vj5"
      }
    },
    {
      "cell_type": "markdown",
      "source": [
        "#### Modelo 1"
      ],
      "metadata": {
        "id": "0_Tk8opT29KU"
      }
    },
    {
      "cell_type": "markdown",
      "source": [
        "probamos con `C = 0.001`, `penalty = 'l1'`"
      ],
      "metadata": {
        "id": "YGnAYoyZEmN5"
      }
    },
    {
      "cell_type": "code",
      "source": [
        "# Logistic Regression\n",
        "lr = LogisticRegression(penalty ='l1', \n",
        "                        C=0.01, \n",
        "                        solver='liblinear', \n",
        "                        random_state=123, \n",
        "                        max_iter=10000)\n",
        "\n",
        "# Esquema K-Fold Cross-Validation\n",
        "kf = KFold(n_splits=5, \n",
        "           shuffle=True, \n",
        "           random_state=123)\n",
        "\n",
        "# estimamos el error generalizado\n",
        "clf =  cross_validate(lr,\n",
        "                      X_train, \n",
        "                      y_train,\n",
        "                      scoring='roc_auc',\n",
        "                      return_train_score=True,\n",
        "                      cv=kf)"
      ],
      "metadata": {
        "id": "eIEJ3CqUyxls"
      },
      "execution_count": 4,
      "outputs": []
    },
    {
      "cell_type": "code",
      "source": [],
      "metadata": {
        "id": "OmRBxCdswRq5"
      },
      "execution_count": 4,
      "outputs": []
    },
    {
      "cell_type": "code",
      "source": [
        "# obtenemos el diccionario con los resultados\n",
        "type(clf)"
      ],
      "metadata": {
        "id": "KbdCEQ5s1fsh",
        "colab": {
          "base_uri": "https://localhost:8080/"
        },
        "outputId": "ebc51ed7-0183-42fa-90d2-cda7aeba5039"
      },
      "execution_count": 5,
      "outputs": [
        {
          "output_type": "execute_result",
          "data": {
            "text/plain": [
              "dict"
            ]
          },
          "metadata": {},
          "execution_count": 5
        }
      ]
    },
    {
      "cell_type": "code",
      "source": [
        "clf.keys()"
      ],
      "metadata": {
        "id": "U2ycYXx2vda5",
        "colab": {
          "base_uri": "https://localhost:8080/"
        },
        "outputId": "f28dc822-6d15-49eb-aaba-d7d1f343a3a1"
      },
      "execution_count": 6,
      "outputs": [
        {
          "output_type": "execute_result",
          "data": {
            "text/plain": [
              "dict_keys(['fit_time', 'score_time', 'test_score', 'train_score'])"
            ]
          },
          "metadata": {},
          "execution_count": 6
        }
      ]
    },
    {
      "cell_type": "code",
      "source": [
        "clf['test_score']"
      ],
      "metadata": {
        "id": "AnGC4YLpvZDv",
        "colab": {
          "base_uri": "https://localhost:8080/"
        },
        "outputId": "1f8a1848-2f9e-44d4-84d5-d7618902a4c5"
      },
      "execution_count": 7,
      "outputs": [
        {
          "output_type": "execute_result",
          "data": {
            "text/plain": [
              "array([0.98901099, 0.95123626, 0.93021725, 0.99667553, 0.97755102])"
            ]
          },
          "metadata": {},
          "execution_count": 7
        }
      ]
    },
    {
      "cell_type": "code",
      "source": [
        "clf['train_score']"
      ],
      "metadata": {
        "id": "PDNRmV-zq6lZ",
        "colab": {
          "base_uri": "https://localhost:8080/"
        },
        "outputId": "d29d5cf0-47fb-467b-d630-6e41d7e20965"
      },
      "execution_count": 8,
      "outputs": [
        {
          "output_type": "execute_result",
          "data": {
            "text/plain": [
              "array([0.96593531, 0.98175106, 0.98016949, 0.96682745, 0.9702521 ])"
            ]
          },
          "metadata": {},
          "execution_count": 8
        }
      ]
    },
    {
      "cell_type": "code",
      "source": [
        "print(np.mean(clf['test_score']))\n",
        "print(np.std(clf['test_score']))"
      ],
      "metadata": {
        "id": "DZOcWTjme5Ok",
        "colab": {
          "base_uri": "https://localhost:8080/"
        },
        "outputId": "cb3bffb9-d318-42df-832a-5eed2f0db86c"
      },
      "execution_count": 9,
      "outputs": [
        {
          "output_type": "stream",
          "name": "stdout",
          "text": [
            "0.9689382106519815\n",
            "0.024735107731352995\n"
          ]
        }
      ]
    },
    {
      "cell_type": "code",
      "source": [
        "print(np.mean(clf['train_score']))\n",
        "print(np.std(clf['train_score']))"
      ],
      "metadata": {
        "id": "jQ6YWfI5fDUa",
        "colab": {
          "base_uri": "https://localhost:8080/"
        },
        "outputId": "92e44639-4a2b-4829-f0c4-532703b84218"
      },
      "execution_count": 10,
      "outputs": [
        {
          "output_type": "stream",
          "name": "stdout",
          "text": [
            "0.9729870828541657\n",
            "0.006686448196780827\n"
          ]
        }
      ]
    },
    {
      "cell_type": "code",
      "source": [
        "# Ajustamos el modelo con todos los datos\n",
        "lr.fit(X_train, y_train)"
      ],
      "metadata": {
        "id": "trbpg7PD11Jw",
        "colab": {
          "base_uri": "https://localhost:8080/"
        },
        "outputId": "09cd8b5a-b6a7-487e-8c03-726723146730"
      },
      "execution_count": 11,
      "outputs": [
        {
          "output_type": "execute_result",
          "data": {
            "text/plain": [
              "LogisticRegression(C=0.01, max_iter=10000, penalty='l1', random_state=123,\n",
              "                   solver='liblinear')"
            ]
          },
          "metadata": {},
          "execution_count": 11
        }
      ]
    },
    {
      "cell_type": "code",
      "source": [
        "# Creamos pronosticos\n",
        "test_preds = lr.predict(X_test)\n",
        "print(accuracy_score(y_test, test_preds))"
      ],
      "metadata": {
        "id": "UmzoqAGV2LGd",
        "colab": {
          "base_uri": "https://localhost:8080/"
        },
        "outputId": "2296cbef-6585-49bf-d1c1-015fcc1e8bee"
      },
      "execution_count": 12,
      "outputs": [
        {
          "output_type": "stream",
          "name": "stdout",
          "text": [
            "0.9473684210526315\n"
          ]
        }
      ]
    },
    {
      "cell_type": "markdown",
      "source": [
        "#### Modelo 2"
      ],
      "metadata": {
        "id": "riL1DqxS3Mpi"
      }
    },
    {
      "cell_type": "markdown",
      "source": [
        "probamos con `C = 1`, `penalty = 'l2'`"
      ],
      "metadata": {
        "id": "SOINgQwOEqSg"
      }
    },
    {
      "cell_type": "code",
      "source": [
        "# # Logistic Regression\n",
        "# lr = LogisticRegression(penalty ='l1', \n",
        "#                         C=0.01, \n",
        "#                         solver='liblinear', \n",
        "#                         random_state=123, \n",
        "#                         max_iter=10000)\n",
        "\n",
        "# # Esquema K-Fold Cross-Validation\n",
        "# kf = KFold(n_splits=5, \n",
        "#            shuffle=True, \n",
        "#            random_state=123)\n",
        "\n",
        "# # estimamos el error generalizado\n",
        "# clf =  cross_validate(lr,\n",
        "#                       X_train, \n",
        "#                       y_train,\n",
        "#                       scoring='roc_auc',\n",
        "#                       return_train_score=True,\n",
        "#                       cv=kf)"
      ],
      "metadata": {
        "id": "cZ-KaevtPkZM"
      },
      "execution_count": 13,
      "outputs": []
    },
    {
      "cell_type": "code",
      "source": [
        "# Logistic Regression\n",
        "lr = LogisticRegression(penalty ='l2', \n",
        "                        C=1, \n",
        "                        solver='liblinear', \n",
        "                        random_state=123, \n",
        "                        max_iter=10000)\n",
        "\n",
        "# Esquema K-Fold Cross-Validation\n",
        "kf = KFold(n_splits=5, \n",
        "           shuffle=True, \n",
        "           random_state=123)\n",
        "\n",
        "# estimamos el error generalizado\n",
        "clf =  cross_validate(lr,\n",
        "                      X_train, \n",
        "                      y_train,\n",
        "                      scoring='accuracy',\n",
        "                      return_train_score=True,\n",
        "                      cv=kf)"
      ],
      "metadata": {
        "id": "6NwvbnmS1WBr"
      },
      "execution_count": 14,
      "outputs": []
    },
    {
      "cell_type": "code",
      "source": [
        "print(np.mean(clf['test_score']))\n",
        "print(np.std(clf['test_score']))"
      ],
      "metadata": {
        "id": "ENRS4iO04Zy7",
        "colab": {
          "base_uri": "https://localhost:8080/"
        },
        "outputId": "94575d8d-dad9-43c9-b3bf-5593a020b927"
      },
      "execution_count": 15,
      "outputs": [
        {
          "output_type": "stream",
          "name": "stdout",
          "text": [
            "0.9422784810126583\n",
            "0.030272655391901895\n"
          ]
        }
      ]
    },
    {
      "cell_type": "code",
      "source": [
        "print(np.mean(clf['train_score']))\n",
        "print(np.std(clf['train_score']))"
      ],
      "metadata": {
        "id": "BVHcDdBefkLG",
        "colab": {
          "base_uri": "https://localhost:8080/"
        },
        "outputId": "22ef5124-b614-4947-803c-947cfc5596f8"
      },
      "execution_count": 16,
      "outputs": [
        {
          "output_type": "stream",
          "name": "stdout",
          "text": [
            "0.9604286193095563\n",
            "0.007319240455215062\n"
          ]
        }
      ]
    },
    {
      "cell_type": "code",
      "source": [
        "# Ajustamos el modelo con todos los datos\n",
        "lr.fit(X_train, y_train)"
      ],
      "metadata": {
        "id": "XVppr1NA4eEW",
        "colab": {
          "base_uri": "https://localhost:8080/"
        },
        "outputId": "301e5904-2cec-4d32-b673-52691e20b87b"
      },
      "execution_count": 17,
      "outputs": [
        {
          "output_type": "execute_result",
          "data": {
            "text/plain": [
              "LogisticRegression(C=1, max_iter=10000, random_state=123, solver='liblinear')"
            ]
          },
          "metadata": {},
          "execution_count": 17
        }
      ]
    },
    {
      "cell_type": "code",
      "source": [
        "# Creamos pronosticos\n",
        "test_preds = lr.predict(X_test)\n",
        "print(accuracy_score(y_test, test_preds))"
      ],
      "metadata": {
        "id": "_xAzMKJh4hW3",
        "colab": {
          "base_uri": "https://localhost:8080/"
        },
        "outputId": "581df0f8-68c4-49fd-afc3-bf76d4a8ba2e"
      },
      "execution_count": 18,
      "outputs": [
        {
          "output_type": "stream",
          "name": "stdout",
          "text": [
            "0.9649122807017544\n"
          ]
        }
      ]
    },
    {
      "cell_type": "code",
      "source": [
        "0.9473684210526315"
      ],
      "metadata": {
        "id": "56BMh8uhrU-5",
        "colab": {
          "base_uri": "https://localhost:8080/"
        },
        "outputId": "a2320ea3-000b-4597-c0ab-ec0476468732"
      },
      "execution_count": 19,
      "outputs": [
        {
          "output_type": "execute_result",
          "data": {
            "text/plain": [
              "0.9473684210526315"
            ]
          },
          "metadata": {},
          "execution_count": 19
        }
      ]
    },
    {
      "cell_type": "markdown",
      "metadata": {
        "id": "0CHayCf_m8Un"
      },
      "source": [
        "## __`GridSearchCV`__"
      ]
    },
    {
      "cell_type": "markdown",
      "metadata": {
        "id": "J1CrWcPSnBSW"
      },
      "source": [
        "Pasos en una búsqueda de hiperparámetros con __`GridSearchCV`__:\n",
        "\n",
        "1. Instanciar un algoritmo (estimador) para ajustar hiperparámetros\n",
        "2. Definir qué hiperparámetros serán ajustados\n",
        "3. Definir un rango de valores para cada hiperparámetro\n",
        "4. Establecer un esquema de cross validation\n",
        "5. Definir una métrica (recall, presicion, RMSE, etc.) para que podamos decidir qué combinación de hiperparámetros es la mejor\n",
        "6. Incluir información extra o funciones adicionales útiles"
      ]
    },
    {
      "cell_type": "markdown",
      "metadata": {
        "id": "54zLppwgopx7"
      },
      "source": [
        "Los argumentos del __[`GridSearchCV`](https://scikit-learn.org/stable/modules/generated/sklearn.model_selection.GridSearchCV.html)__ son:\n",
        "\n",
        "* `estimator`, el algoritmo que será usado (knn, RandomForest, etc.)\n",
        "* `param_grid`, diccionadrio de hiperparámetros y sus valores que serán probados\n",
        "* `cv`, esquema de validación cruzada que será usado\n",
        "* `scoring`, métrica usada para evaluar el performance del modelo\n",
        "* `refit`, (True/False) si es True, ajustará un modelo sobre todos los datos usando los mejores hiperparámetros encontrados, esto implica que el objeto __`GridSearchCV`__ ahora pasará a ser usado como un estimador\n",
        "* `n_jobs`, para ejecutar la busqueda en paralelo\n",
        "* `return_train_score` es el log de las estadísticas que fueron tomadas, es útil para entender el performance de training vs test\n",
        "* `verbose`, Controla los mensajes que se imprimen al momento de hacer los ajustes"
      ]
    },
    {
      "cell_type": "code",
      "metadata": {
        "id": "bjW4_kMjRNLm",
        "colab": {
          "base_uri": "https://localhost:8080/"
        },
        "outputId": "ce3be78d-382b-4867-e84d-f3166b24c056"
      },
      "source": [
        "# cores disponibles\n",
        "import os\n",
        "os.cpu_count()"
      ],
      "execution_count": 20,
      "outputs": [
        {
          "output_type": "execute_result",
          "data": {
            "text/plain": [
              "2"
            ]
          },
          "metadata": {},
          "execution_count": 20
        }
      ]
    },
    {
      "cell_type": "code",
      "metadata": {
        "id": "xyKsau2MsDE5"
      },
      "source": [
        "# partimos en train y test\n",
        "X_train, X_test, y_train, y_test = train_test_split(X, y, \n",
        "                                                    test_size=0.3, \n",
        "                                                    random_state=0)"
      ],
      "execution_count": 21,
      "outputs": []
    },
    {
      "cell_type": "markdown",
      "source": [
        "Debemos traer el GridSearchCV\n",
        "\n",
        "```python\n",
        "from sklearn.model_selection import GridSearchCV\n",
        "```\n",
        "\n"
      ],
      "metadata": {
        "id": "bEoYM2lN8pqB"
      }
    },
    {
      "cell_type": "code",
      "source": [
        "# Instanciamos el modelo\n",
        "gbm = GradientBoostingClassifier(random_state=0)"
      ],
      "metadata": {
        "id": "XjNc87UH5dDx"
      },
      "execution_count": 22,
      "outputs": []
    },
    {
      "cell_type": "markdown",
      "source": [
        "Creamos el grid de parametros, que es un diccionario donde:\n",
        "\n",
        "*   las llaves del diccionario son los hiperparametros que vamos a calibrar\n",
        "*   los valores del diccionario son listas con los valores de los respectivos hiperparametros que seran probados\n",
        "\n",
        "Ejemplo:\n",
        "\n",
        "```python\n",
        "param_grid = {'hiperparametro_01': [valor_h11, valor_h12, valor_h13], \n",
        "              'hiperparametro_02': [valor_h21, valor_h22, valor_h23],\n",
        "              '...':[...],\n",
        "              'hiperparametro_N':[valor_hN1, valor_hN2, valor_N3]\n",
        "              }\n",
        "```\n",
        "\n"
      ],
      "metadata": {
        "id": "EOSKKjwo5ot7"
      }
    },
    {
      "cell_type": "code",
      "source": [
        "# Creamos el grid de nuestro ejercicio\n",
        "param_grid = {'n_estimators': [50, 100, 150],\n",
        "              'min_samples_split': [0.1, 0.3, 0.5, 0.7],\n",
        "              'max_depth': [2, 5, 10, 15],\n",
        "              }"
      ],
      "metadata": {
        "id": "mVjtoDAZ5fXO"
      },
      "execution_count": 23,
      "outputs": []
    },
    {
      "cell_type": "code",
      "source": [
        "print('Numero de combinaciones entre los parametros a probar:')\n",
        "print(len(param_grid['n_estimators'])*len(param_grid['min_samples_split'])*len(param_grid['max_depth']))"
      ],
      "metadata": {
        "id": "TODg83Q-9Z0i",
        "colab": {
          "base_uri": "https://localhost:8080/"
        },
        "outputId": "459b0596-e3e6-482b-ae0f-af0d9bdd2008"
      },
      "execution_count": 24,
      "outputs": [
        {
          "output_type": "stream",
          "name": "stdout",
          "text": [
            "Numero de combinaciones entre los parametros a probar:\n",
            "48\n"
          ]
        }
      ]
    },
    {
      "cell_type": "code",
      "source": [
        "# Supongamos que queremos probar con un esquema de 10 validaciones crizadas"
      ],
      "metadata": {
        "id": "atc3dsiITjMS"
      },
      "execution_count": 25,
      "outputs": []
    },
    {
      "cell_type": "code",
      "source": [
        "10*48"
      ],
      "metadata": {
        "id": "U2zp6VPbTnNe",
        "colab": {
          "base_uri": "https://localhost:8080/"
        },
        "outputId": "42b66e40-459e-4c33-9f04-de86c203166a"
      },
      "execution_count": 26,
      "outputs": [
        {
          "output_type": "execute_result",
          "data": {
            "text/plain": [
              "480"
            ]
          },
          "metadata": {},
          "execution_count": 26
        }
      ]
    },
    {
      "cell_type": "code",
      "source": [
        "# aun falta ajustar el modelo final con los mejores hiperparametros enmcontrados\n",
        "10*48 + 1"
      ],
      "metadata": {
        "id": "2qd5CmdxTqhK",
        "colab": {
          "base_uri": "https://localhost:8080/"
        },
        "outputId": "ab2b3054-2bf5-475e-a7a0-3137db1f1d78"
      },
      "execution_count": 27,
      "outputs": [
        {
          "output_type": "execute_result",
          "data": {
            "text/plain": [
              "481"
            ]
          },
          "metadata": {},
          "execution_count": 27
        }
      ]
    },
    {
      "cell_type": "code",
      "source": [
        "# Instanciamos el GridSearchCV\n",
        "grid_gbm_search = GridSearchCV(estimator=gbm,\n",
        "                               param_grid=param_grid,\n",
        "                               scoring='roc_auc',\n",
        "                               n_jobs=-1, # Cuando colocamos menos 1 quiere decir que usaremos todos los cores disponibles en nuestra maquina\n",
        "                               verbose = True,\n",
        "                               cv=4,\n",
        "                               refit=True, \n",
        "                               return_train_score=True)"
      ],
      "metadata": {
        "id": "eUejBvqx8eB0"
      },
      "execution_count": 28,
      "outputs": []
    },
    {
      "cell_type": "code",
      "metadata": {
        "id": "e56A_Kctsmux",
        "colab": {
          "base_uri": "https://localhost:8080/"
        },
        "outputId": "7d7bc07b-a899-4b92-d4bd-2be3b06210e0"
      },
      "source": [
        "%%time\n",
        "# Buscamos y ajustamos  hiperparametros con los datos de entrenamiento\n",
        "grid_gbm_search.fit(X_train, y_train)"
      ],
      "execution_count": 29,
      "outputs": [
        {
          "output_type": "stream",
          "name": "stdout",
          "text": [
            "Fitting 4 folds for each of 48 candidates, totalling 192 fits\n",
            "CPU times: user 1.88 s, sys: 127 ms, total: 2 s\n",
            "Wall time: 1min 17s\n"
          ]
        },
        {
          "output_type": "execute_result",
          "data": {
            "text/plain": [
              "GridSearchCV(cv=4, estimator=GradientBoostingClassifier(random_state=0),\n",
              "             n_jobs=-1,\n",
              "             param_grid={'max_depth': [2, 5, 10, 15],\n",
              "                         'min_samples_split': [0.1, 0.3, 0.5, 0.7],\n",
              "                         'n_estimators': [50, 100, 150]},\n",
              "             return_train_score=True, scoring='roc_auc', verbose=True)"
            ]
          },
          "metadata": {},
          "execution_count": 29
        }
      ]
    },
    {
      "cell_type": "code",
      "source": [
        "type(grid_gbm_search)"
      ],
      "metadata": {
        "id": "KXK-fKKK8i6F",
        "colab": {
          "base_uri": "https://localhost:8080/"
        },
        "outputId": "f8134527-f480-4c3b-d331-a78652903443"
      },
      "execution_count": 30,
      "outputs": [
        {
          "output_type": "execute_result",
          "data": {
            "text/plain": [
              "sklearn.model_selection._search.GridSearchCV"
            ]
          },
          "metadata": {},
          "execution_count": 30
        }
      ]
    },
    {
      "cell_type": "code",
      "source": [
        "dir(grid_gbm_search)"
      ],
      "metadata": {
        "id": "ygifKZw88n23",
        "colab": {
          "base_uri": "https://localhost:8080/"
        },
        "outputId": "e32bd9a4-246a-4aa2-a4ed-9dfbc2f57266"
      },
      "execution_count": 31,
      "outputs": [
        {
          "output_type": "execute_result",
          "data": {
            "text/plain": [
              "['__abstractmethods__',\n",
              " '__class__',\n",
              " '__delattr__',\n",
              " '__dict__',\n",
              " '__dir__',\n",
              " '__doc__',\n",
              " '__eq__',\n",
              " '__format__',\n",
              " '__ge__',\n",
              " '__getattribute__',\n",
              " '__getstate__',\n",
              " '__gt__',\n",
              " '__hash__',\n",
              " '__init__',\n",
              " '__init_subclass__',\n",
              " '__le__',\n",
              " '__lt__',\n",
              " '__module__',\n",
              " '__ne__',\n",
              " '__new__',\n",
              " '__reduce__',\n",
              " '__reduce_ex__',\n",
              " '__repr__',\n",
              " '__setattr__',\n",
              " '__setstate__',\n",
              " '__sizeof__',\n",
              " '__str__',\n",
              " '__subclasshook__',\n",
              " '__weakref__',\n",
              " '_abc_impl',\n",
              " '_check_feature_names',\n",
              " '_check_n_features',\n",
              " '_check_refit_for_multimetric',\n",
              " '_estimator_type',\n",
              " '_format_results',\n",
              " '_get_param_names',\n",
              " '_get_tags',\n",
              " '_more_tags',\n",
              " '_pairwise',\n",
              " '_repr_html_',\n",
              " '_repr_html_inner',\n",
              " '_repr_mimebundle_',\n",
              " '_required_parameters',\n",
              " '_run_search',\n",
              " '_select_best_index',\n",
              " '_validate_data',\n",
              " 'best_estimator_',\n",
              " 'best_index_',\n",
              " 'best_params_',\n",
              " 'best_score_',\n",
              " 'classes_',\n",
              " 'cv',\n",
              " 'cv_results_',\n",
              " 'decision_function',\n",
              " 'error_score',\n",
              " 'estimator',\n",
              " 'fit',\n",
              " 'get_params',\n",
              " 'inverse_transform',\n",
              " 'multimetric_',\n",
              " 'n_features_in_',\n",
              " 'n_jobs',\n",
              " 'n_splits_',\n",
              " 'param_grid',\n",
              " 'pre_dispatch',\n",
              " 'predict',\n",
              " 'predict_log_proba',\n",
              " 'predict_proba',\n",
              " 'refit',\n",
              " 'refit_time_',\n",
              " 'return_train_score',\n",
              " 'score',\n",
              " 'score_samples',\n",
              " 'scorer_',\n",
              " 'scoring',\n",
              " 'set_params',\n",
              " 'transform',\n",
              " 'verbose']"
            ]
          },
          "metadata": {},
          "execution_count": 31
        }
      ]
    },
    {
      "cell_type": "code",
      "metadata": {
        "id": "mQd8qgkKsm45"
      },
      "source": [
        "# Usamos grid_rf_class para generar predicciones\n",
        "y_pred = grid_gbm_search.predict(X_test)"
      ],
      "execution_count": 32,
      "outputs": []
    },
    {
      "cell_type": "code",
      "source": [
        "print(classification_report(y_test, y_pred))\n",
        "print('-'*30)\n",
        "print(roc_auc_score(y_test, y_pred))"
      ],
      "metadata": {
        "id": "9Pm7kDRsHA7O",
        "colab": {
          "base_uri": "https://localhost:8080/"
        },
        "outputId": "d35eec2d-d92e-4d15-a265-38a6149cfc01"
      },
      "execution_count": 33,
      "outputs": [
        {
          "output_type": "stream",
          "name": "stdout",
          "text": [
            "              precision    recall  f1-score   support\n",
            "\n",
            "           0       0.99      0.98      0.99       108\n",
            "           1       0.97      0.98      0.98        63\n",
            "\n",
            "    accuracy                           0.98       171\n",
            "   macro avg       0.98      0.98      0.98       171\n",
            "weighted avg       0.98      0.98      0.98       171\n",
            "\n",
            "------------------------------\n",
            "0.9828042328042329\n"
          ]
        }
      ]
    },
    {
      "cell_type": "markdown",
      "metadata": {
        "id": "UIxv6cxHuCAo"
      },
      "source": [
        "### Resultados del __`GridSearchCV`__"
      ]
    },
    {
      "cell_type": "markdown",
      "metadata": {
        "id": "YUOLBy-duPOm"
      },
      "source": [
        "* log de resultados\n",
        "    + `.cv_results_` (diccionario de resultados)\n",
        "\n",
        "* Mejores resultados\n",
        "    + `.best_index_` (indice del mejor modelo), `.best_params_` (mejores parámetros) & `.best_score_` (mejor score)\n",
        "\n",
        "* Información extra\n",
        "    + `.scorer_` (métrica usada), `.n_splits_` (k usado en cv) & `.refit_time_` (tiempos)"
      ]
    },
    {
      "cell_type": "code",
      "source": [
        "# Creamos el grid de nuestro ejercicio\n",
        "param_grid = {'n_estimators': [50, 100, 150],\n",
        "              'min_samples_split': [0.1, 0.3, 0.5, 0.7],\n",
        "              'max_depth': [2, 5, 10, 15],\n",
        "              }"
      ],
      "metadata": {
        "id": "hSu1PMC79LLa"
      },
      "execution_count": 34,
      "outputs": []
    },
    {
      "cell_type": "code",
      "metadata": {
        "id": "-CXnR48tk8TL",
        "colab": {
          "base_uri": "https://localhost:8080/"
        },
        "outputId": "0134d92a-5b13-4b29-e002-9753d5d82cae"
      },
      "source": [
        "# podemos extrae los mejores hiperparametros para despues intentar ajustar un nuevo modelo\n",
        "print(grid_gbm_search.best_params_) "
      ],
      "execution_count": 35,
      "outputs": [
        {
          "output_type": "stream",
          "name": "stdout",
          "text": [
            "{'max_depth': 5, 'min_samples_split': 0.5, 'n_estimators': 150}\n"
          ]
        }
      ]
    },
    {
      "cell_type": "code",
      "source": [
        "# podemos obtener la metrica promedio del proceso de validación cruzada\n",
        "print(grid_gbm_search.best_score_) "
      ],
      "metadata": {
        "id": "tdze83fQG0AB",
        "colab": {
          "base_uri": "https://localhost:8080/"
        },
        "outputId": "95821faa-ae67-42de-c4a6-d5972d9219df"
      },
      "execution_count": 36,
      "outputs": [
        {
          "output_type": "stream",
          "name": "stdout",
          "text": [
            "0.9898031368744443\n"
          ]
        }
      ]
    },
    {
      "cell_type": "code",
      "source": [
        "grid_gbm_search.cv_results_"
      ],
      "metadata": {
        "id": "1prj9KTjvj2J",
        "colab": {
          "base_uri": "https://localhost:8080/"
        },
        "outputId": "3d4c5154-9ca9-4569-938c-f4a9554d2562"
      },
      "execution_count": 37,
      "outputs": [
        {
          "output_type": "execute_result",
          "data": {
            "text/plain": [
              "{'mean_fit_time': array([0.37506062, 0.89902031, 0.67812121, 0.26654267, 0.69991517,\n",
              "        0.89845622, 0.47771645, 0.66603529, 0.79504937, 0.21747088,\n",
              "        0.69060814, 0.66551799, 0.60487533, 1.15850407, 1.70915574,\n",
              "        0.54791003, 1.13368112, 1.5082745 , 0.46641821, 0.98082352,\n",
              "        1.04275483, 0.10974598, 0.26778024, 0.41904604, 0.50771046,\n",
              "        1.0122335 , 1.54231578, 0.46365339, 0.94228446, 1.44665915,\n",
              "        0.2750386 , 0.53345472, 0.76967525, 0.11510855, 0.26370871,\n",
              "        0.41958922, 0.77000529, 1.53161341, 1.98800606, 0.5534119 ,\n",
              "        1.1240598 , 1.65047497, 0.27502322, 0.52762157, 0.81379175,\n",
              "        0.11782461, 0.26538509, 0.41961592]),\n",
              " 'std_fit_time': array([0.22659978, 0.53261123, 0.33482708, 0.18423689, 0.22518912,\n",
              "        0.40572496, 0.2474387 , 0.41912456, 0.48723645, 0.12884582,\n",
              "        0.30935714, 0.17077564, 0.10772236, 0.1284945 , 0.20925737,\n",
              "        0.08807903, 0.12764335, 0.1577207 , 0.1541651 , 0.25400237,\n",
              "        0.1447614 , 0.00161473, 0.02076065, 0.02369839, 0.0171481 ,\n",
              "        0.03032917, 0.03866662, 0.01298886, 0.05312539, 0.09000026,\n",
              "        0.01804668, 0.03931292, 0.0728535 , 0.00684838, 0.01367358,\n",
              "        0.03008069, 0.15179745, 0.21564338, 0.05250013, 0.01139066,\n",
              "        0.02872018, 0.09091751, 0.02008616, 0.04483891, 0.09194379,\n",
              "        0.00734393, 0.02050668, 0.02520627]),\n",
              " 'mean_score_time': array([0.01007909, 0.00494486, 0.00516135, 0.00848669, 0.01014596,\n",
              "        0.01884198, 0.03046054, 0.01006871, 0.0068233 , 0.00654012,\n",
              "        0.00982112, 0.00732869, 0.01372564, 0.00746858, 0.00950289,\n",
              "        0.00887889, 0.00964421, 0.00680894, 0.01048696, 0.00868595,\n",
              "        0.00915122, 0.00429052, 0.00450116, 0.00460172, 0.00451809,\n",
              "        0.0045861 , 0.00503302, 0.00430316, 0.00466645, 0.00484592,\n",
              "        0.00437123, 0.00469172, 0.00529683, 0.00436103, 0.00442761,\n",
              "        0.00485724, 0.00451624, 0.00482094, 0.00518239, 0.00449008,\n",
              "        0.00504541, 0.0051918 , 0.00441772, 0.00458115, 0.00473738,\n",
              "        0.00493169, 0.0044505 , 0.00622022]),\n",
              " 'std_score_time': array([8.63801756e-03, 3.05019343e-04, 7.48743372e-04, 5.77915767e-03,\n",
              "        9.17774204e-03, 1.47439261e-02, 3.48669986e-02, 8.72249994e-03,\n",
              "        3.33689352e-03, 3.12348860e-03, 7.91017480e-03, 2.89595454e-03,\n",
              "        2.32780989e-03, 3.35711617e-03, 4.29902917e-03, 4.94204102e-03,\n",
              "        3.02425264e-03, 3.16057851e-03, 3.52302073e-03, 3.96127523e-03,\n",
              "        7.52632723e-03, 1.76840171e-04, 1.12438866e-04, 1.33313620e-04,\n",
              "        2.95314658e-04, 9.01155211e-05, 9.67154010e-05, 8.25097735e-05,\n",
              "        1.14891227e-04, 4.75064724e-05, 8.10699205e-05, 1.62966773e-04,\n",
              "        1.00561759e-03, 9.11558291e-05, 1.05937879e-04, 3.55217375e-04,\n",
              "        1.06448022e-04, 9.10391440e-05, 1.20565979e-04, 1.17039772e-04,\n",
              "        2.71593350e-04, 1.39935154e-04, 1.63601482e-04, 2.65916221e-05,\n",
              "        1.41106642e-04, 6.01586842e-04, 9.90290410e-05, 2.93398885e-03]),\n",
              " 'param_max_depth': masked_array(data=[2, 2, 2, 2, 2, 2, 2, 2, 2, 2, 2, 2, 5, 5, 5, 5, 5, 5,\n",
              "                    5, 5, 5, 5, 5, 5, 10, 10, 10, 10, 10, 10, 10, 10, 10,\n",
              "                    10, 10, 10, 15, 15, 15, 15, 15, 15, 15, 15, 15, 15, 15,\n",
              "                    15],\n",
              "              mask=[False, False, False, False, False, False, False, False,\n",
              "                    False, False, False, False, False, False, False, False,\n",
              "                    False, False, False, False, False, False, False, False,\n",
              "                    False, False, False, False, False, False, False, False,\n",
              "                    False, False, False, False, False, False, False, False,\n",
              "                    False, False, False, False, False, False, False, False],\n",
              "        fill_value='?',\n",
              "             dtype=object),\n",
              " 'param_min_samples_split': masked_array(data=[0.1, 0.1, 0.1, 0.3, 0.3, 0.3, 0.5, 0.5, 0.5, 0.7, 0.7,\n",
              "                    0.7, 0.1, 0.1, 0.1, 0.3, 0.3, 0.3, 0.5, 0.5, 0.5, 0.7,\n",
              "                    0.7, 0.7, 0.1, 0.1, 0.1, 0.3, 0.3, 0.3, 0.5, 0.5, 0.5,\n",
              "                    0.7, 0.7, 0.7, 0.1, 0.1, 0.1, 0.3, 0.3, 0.3, 0.5, 0.5,\n",
              "                    0.5, 0.7, 0.7, 0.7],\n",
              "              mask=[False, False, False, False, False, False, False, False,\n",
              "                    False, False, False, False, False, False, False, False,\n",
              "                    False, False, False, False, False, False, False, False,\n",
              "                    False, False, False, False, False, False, False, False,\n",
              "                    False, False, False, False, False, False, False, False,\n",
              "                    False, False, False, False, False, False, False, False],\n",
              "        fill_value='?',\n",
              "             dtype=object),\n",
              " 'param_n_estimators': masked_array(data=[50, 100, 150, 50, 100, 150, 50, 100, 150, 50, 100, 150,\n",
              "                    50, 100, 150, 50, 100, 150, 50, 100, 150, 50, 100, 150,\n",
              "                    50, 100, 150, 50, 100, 150, 50, 100, 150, 50, 100, 150,\n",
              "                    50, 100, 150, 50, 100, 150, 50, 100, 150, 50, 100, 150],\n",
              "              mask=[False, False, False, False, False, False, False, False,\n",
              "                    False, False, False, False, False, False, False, False,\n",
              "                    False, False, False, False, False, False, False, False,\n",
              "                    False, False, False, False, False, False, False, False,\n",
              "                    False, False, False, False, False, False, False, False,\n",
              "                    False, False, False, False, False, False, False, False],\n",
              "        fill_value='?',\n",
              "             dtype=object),\n",
              " 'params': [{'max_depth': 2, 'min_samples_split': 0.1, 'n_estimators': 50},\n",
              "  {'max_depth': 2, 'min_samples_split': 0.1, 'n_estimators': 100},\n",
              "  {'max_depth': 2, 'min_samples_split': 0.1, 'n_estimators': 150},\n",
              "  {'max_depth': 2, 'min_samples_split': 0.3, 'n_estimators': 50},\n",
              "  {'max_depth': 2, 'min_samples_split': 0.3, 'n_estimators': 100},\n",
              "  {'max_depth': 2, 'min_samples_split': 0.3, 'n_estimators': 150},\n",
              "  {'max_depth': 2, 'min_samples_split': 0.5, 'n_estimators': 50},\n",
              "  {'max_depth': 2, 'min_samples_split': 0.5, 'n_estimators': 100},\n",
              "  {'max_depth': 2, 'min_samples_split': 0.5, 'n_estimators': 150},\n",
              "  {'max_depth': 2, 'min_samples_split': 0.7, 'n_estimators': 50},\n",
              "  {'max_depth': 2, 'min_samples_split': 0.7, 'n_estimators': 100},\n",
              "  {'max_depth': 2, 'min_samples_split': 0.7, 'n_estimators': 150},\n",
              "  {'max_depth': 5, 'min_samples_split': 0.1, 'n_estimators': 50},\n",
              "  {'max_depth': 5, 'min_samples_split': 0.1, 'n_estimators': 100},\n",
              "  {'max_depth': 5, 'min_samples_split': 0.1, 'n_estimators': 150},\n",
              "  {'max_depth': 5, 'min_samples_split': 0.3, 'n_estimators': 50},\n",
              "  {'max_depth': 5, 'min_samples_split': 0.3, 'n_estimators': 100},\n",
              "  {'max_depth': 5, 'min_samples_split': 0.3, 'n_estimators': 150},\n",
              "  {'max_depth': 5, 'min_samples_split': 0.5, 'n_estimators': 50},\n",
              "  {'max_depth': 5, 'min_samples_split': 0.5, 'n_estimators': 100},\n",
              "  {'max_depth': 5, 'min_samples_split': 0.5, 'n_estimators': 150},\n",
              "  {'max_depth': 5, 'min_samples_split': 0.7, 'n_estimators': 50},\n",
              "  {'max_depth': 5, 'min_samples_split': 0.7, 'n_estimators': 100},\n",
              "  {'max_depth': 5, 'min_samples_split': 0.7, 'n_estimators': 150},\n",
              "  {'max_depth': 10, 'min_samples_split': 0.1, 'n_estimators': 50},\n",
              "  {'max_depth': 10, 'min_samples_split': 0.1, 'n_estimators': 100},\n",
              "  {'max_depth': 10, 'min_samples_split': 0.1, 'n_estimators': 150},\n",
              "  {'max_depth': 10, 'min_samples_split': 0.3, 'n_estimators': 50},\n",
              "  {'max_depth': 10, 'min_samples_split': 0.3, 'n_estimators': 100},\n",
              "  {'max_depth': 10, 'min_samples_split': 0.3, 'n_estimators': 150},\n",
              "  {'max_depth': 10, 'min_samples_split': 0.5, 'n_estimators': 50},\n",
              "  {'max_depth': 10, 'min_samples_split': 0.5, 'n_estimators': 100},\n",
              "  {'max_depth': 10, 'min_samples_split': 0.5, 'n_estimators': 150},\n",
              "  {'max_depth': 10, 'min_samples_split': 0.7, 'n_estimators': 50},\n",
              "  {'max_depth': 10, 'min_samples_split': 0.7, 'n_estimators': 100},\n",
              "  {'max_depth': 10, 'min_samples_split': 0.7, 'n_estimators': 150},\n",
              "  {'max_depth': 15, 'min_samples_split': 0.1, 'n_estimators': 50},\n",
              "  {'max_depth': 15, 'min_samples_split': 0.1, 'n_estimators': 100},\n",
              "  {'max_depth': 15, 'min_samples_split': 0.1, 'n_estimators': 150},\n",
              "  {'max_depth': 15, 'min_samples_split': 0.3, 'n_estimators': 50},\n",
              "  {'max_depth': 15, 'min_samples_split': 0.3, 'n_estimators': 100},\n",
              "  {'max_depth': 15, 'min_samples_split': 0.3, 'n_estimators': 150},\n",
              "  {'max_depth': 15, 'min_samples_split': 0.5, 'n_estimators': 50},\n",
              "  {'max_depth': 15, 'min_samples_split': 0.5, 'n_estimators': 100},\n",
              "  {'max_depth': 15, 'min_samples_split': 0.5, 'n_estimators': 150},\n",
              "  {'max_depth': 15, 'min_samples_split': 0.7, 'n_estimators': 50},\n",
              "  {'max_depth': 15, 'min_samples_split': 0.7, 'n_estimators': 100},\n",
              "  {'max_depth': 15, 'min_samples_split': 0.7, 'n_estimators': 150}],\n",
              " 'split0_test_score': array([0.98648649, 0.98562849, 0.98648649, 0.98648649, 0.98562849,\n",
              "        0.98648649, 0.98863149, 0.98948949, 0.98991849, 0.98841699,\n",
              "        0.99056199, 0.99227799, 0.98648649, 0.97747748, 0.96632347,\n",
              "        0.98734449, 0.98262548, 0.98605749, 0.98648649, 0.98820249,\n",
              "        0.98970399, 0.98841699, 0.98927499, 0.99141999, 0.96589447,\n",
              "        0.96374946, 0.96417846, 0.98391248, 0.98477048, 0.98477048,\n",
              "        0.98348348, 0.98777349, 0.98562849, 0.98841699, 0.98927499,\n",
              "        0.99141999, 0.98026598, 0.97940798, 0.97897898, 0.98562849,\n",
              "        0.98562849, 0.98562849, 0.98541399, 0.98670099, 0.98541399,\n",
              "        0.98841699, 0.98927499, 0.99141999]),\n",
              " 'split1_test_score': array([0.98599321, 0.98684211, 0.98599321, 0.98471986, 0.98344652,\n",
              "        0.98471986, 0.9815365 , 0.97962649, 0.98005093, 0.97877759,\n",
              "        0.97835314, 0.97877759, 0.98662988, 0.98684211, 0.98726655,\n",
              "        0.98832767, 0.9885399 , 0.98938879, 0.98471986, 0.98259762,\n",
              "        0.98302207, 0.97750424, 0.97877759, 0.97835314, 0.98662988,\n",
              "        0.98662988, 0.98662988, 0.98747878, 0.98620543, 0.98471986,\n",
              "        0.98471986, 0.98556876, 0.98387097, 0.97750424, 0.97877759,\n",
              "        0.97835314, 0.98535654, 0.97347199, 0.97219864, 0.98684211,\n",
              "        0.98599321, 0.98599321, 0.98471986, 0.98641766, 0.98514431,\n",
              "        0.97750424, 0.97877759, 0.97835314]),\n",
              " 'split2_test_score': array([0.98343505, 0.98256321, 0.98212729, 0.98561465, 0.98256321,\n",
              "        0.98169137, 0.98256321, 0.97863993, 0.97951177, 0.98256321,\n",
              "        0.98735833, 0.98997384, 0.98605057, 0.98517873, 0.98779425,\n",
              "        0.98474281, 0.98517873, 0.98735833, 0.98430689, 0.98692241,\n",
              "        0.98779425, 0.98212729, 0.98866609, 0.99040976, 0.96294682,\n",
              "        0.97994769, 0.98169137, 0.97863993, 0.97863993, 0.97733217,\n",
              "        0.98387097, 0.98517873, 0.98387097, 0.98212729, 0.98866609,\n",
              "        0.99040976, 0.96294682, 0.97776809, 0.98299913, 0.95989538,\n",
              "        0.97820401, 0.98038361, 0.98343505, 0.98605057, 0.98343505,\n",
              "        0.98212729, 0.98866609, 0.99040976]),\n",
              " 'split3_test_score': array([0.99084568, 0.99651264, 0.99738448, 0.99302528, 0.99607672,\n",
              "        0.99651264, 0.99302528, 0.99694856, 0.99738448, 0.98910201,\n",
              "        0.99520488, 0.99651264, 0.99084568, 0.99433304, 0.99651264,\n",
              "        0.98866609, 0.99389712, 0.99520488, 0.99171752, 0.9978204 ,\n",
              "        0.99869224, 0.98997384, 0.9956408 , 0.99738448, 0.99302528,\n",
              "        0.98997384, 0.98038361, 0.99215344, 0.99258936, 0.99258936,\n",
              "        0.99694856, 0.99825632, 0.99912816, 0.98997384, 0.9956408 ,\n",
              "        0.99738448, 0.99389712, 0.99258936, 0.99084568, 0.99476896,\n",
              "        0.99389712, 0.99389712, 0.99738448, 0.99869224, 0.99825632,\n",
              "        0.98997384, 0.9956408 , 0.99738448]),\n",
              " 'mean_test_score': array([0.98669011, 0.98788661, 0.98799787, 0.98746157, 0.98692873,\n",
              "        0.98735259, 0.98643912, 0.98617612, 0.98671642, 0.98471495,\n",
              "        0.98786958, 0.98938552, 0.98750315, 0.98595784, 0.98447423,\n",
              "        0.98727026, 0.98756031, 0.98950237, 0.98680769, 0.98888573,\n",
              "        0.98980314, 0.98450559, 0.98808987, 0.98939184, 0.97712411,\n",
              "        0.98007522, 0.97822083, 0.98554616, 0.9855513 , 0.98485297,\n",
              "        0.98725572, 0.98919432, 0.98812465, 0.98450559, 0.98808987,\n",
              "        0.98939184, 0.98061661, 0.98080936, 0.98125561, 0.98178373,\n",
              "        0.98593071, 0.98647561, 0.98773834, 0.98946536, 0.98806242,\n",
              "        0.98450559, 0.98808987, 0.98939184]),\n",
              " 'std_test_score': array([0.00266418, 0.00521865, 0.00567616, 0.00327238, 0.00539815,\n",
              "        0.00555962, 0.00467018, 0.00752854, 0.00742288, 0.00426713,\n",
              "        0.00616197, 0.00655814, 0.00194157, 0.00598852, 0.01110398,\n",
              "        0.00153785, 0.0042172 , 0.00349985, 0.00295054, 0.0055608 ,\n",
              "        0.00567989, 0.0049969 , 0.00603058, 0.00690805, 0.01294515,\n",
              "        0.01009323, 0.00843538, 0.00494358, 0.0049583 , 0.00539534,\n",
              "        0.005614  , 0.00532467, 0.00639327, 0.0049969 , 0.00603058,\n",
              "        0.00690805, 0.01130468, 0.00713825, 0.00674946, 0.01311569,\n",
              "        0.00555115, 0.0048255 , 0.00561427, 0.00533213, 0.00593418,\n",
              "        0.0049969 , 0.00603058, 0.00690805]),\n",
              " 'rank_test_score': array([28, 16, 15, 21, 25, 22, 30, 31, 27, 37, 17,  7, 20, 32, 41, 23, 19,\n",
              "         2, 26,  9,  1, 38, 11,  4, 48, 46, 47, 35, 34, 36, 24,  8, 10, 38,\n",
              "        11,  4, 45, 44, 43, 42, 33, 29, 18,  3, 14, 38, 11,  4],\n",
              "       dtype=int32),\n",
              " 'split0_train_score': array([1.        , 1.        , 1.        , 1.        , 1.        ,\n",
              "        1.        , 0.99947197, 1.        , 1.        , 0.99889593,\n",
              "        1.        , 1.        , 1.        , 1.        , 1.        ,\n",
              "        1.        , 1.        , 1.        , 1.        , 1.        ,\n",
              "        1.        , 0.99908794, 1.        , 1.        , 1.        ,\n",
              "        1.        , 1.        , 1.        , 1.        , 1.        ,\n",
              "        1.        , 1.        , 1.        , 0.99908794, 1.        ,\n",
              "        1.        , 1.        , 1.        , 1.        , 1.        ,\n",
              "        1.        , 1.        , 1.        , 1.        , 1.        ,\n",
              "        0.99908794, 1.        , 1.        ]),\n",
              " 'split1_train_score': array([1.        , 1.        , 1.        , 1.        , 1.        ,\n",
              "        1.        , 1.        , 1.        , 1.        , 0.99874741,\n",
              "        1.        , 1.        , 1.        , 1.        , 1.        ,\n",
              "        1.        , 1.        , 1.        , 1.        , 1.        ,\n",
              "        1.        , 0.99879559, 1.        , 1.        , 1.        ,\n",
              "        1.        , 1.        , 1.        , 1.        , 1.        ,\n",
              "        1.        , 1.        , 1.        , 0.99879559, 1.        ,\n",
              "        1.        , 1.        , 1.        , 1.        , 1.        ,\n",
              "        1.        , 1.        , 1.        , 1.        , 1.        ,\n",
              "        0.99879559, 1.        , 1.        ]),\n",
              " 'split2_train_score': array([1.        , 1.        , 1.        , 1.        , 1.        ,\n",
              "        1.        , 0.99990451, 1.        , 1.        , 0.99777979,\n",
              "        1.        , 1.        , 1.        , 1.        , 1.        ,\n",
              "        1.        , 1.        , 1.        , 1.        , 1.        ,\n",
              "        1.        , 0.99777979, 1.        , 1.        , 1.        ,\n",
              "        1.        , 1.        , 1.        , 1.        , 1.        ,\n",
              "        1.        , 1.        , 1.        , 0.99777979, 1.        ,\n",
              "        1.        , 1.        , 1.        , 1.        , 1.        ,\n",
              "        1.        , 1.        , 1.        , 1.        , 1.        ,\n",
              "        0.99777979, 1.        , 1.        ]),\n",
              " 'split3_train_score': array([1.        , 1.        , 1.        , 1.        , 1.        ,\n",
              "        1.        , 0.99947479, 1.        , 1.        , 0.99692036,\n",
              "        0.99990451, 1.        , 1.        , 1.        , 1.        ,\n",
              "        1.        , 1.        , 1.        , 1.        , 1.        ,\n",
              "        1.        , 0.99713522, 1.        , 1.        , 1.        ,\n",
              "        1.        , 1.        , 1.        , 1.        , 1.        ,\n",
              "        1.        , 1.        , 1.        , 0.99713522, 1.        ,\n",
              "        1.        , 1.        , 1.        , 1.        , 1.        ,\n",
              "        1.        , 1.        , 1.        , 1.        , 1.        ,\n",
              "        0.99713522, 1.        , 1.        ]),\n",
              " 'mean_train_score': array([1.        , 1.        , 1.        , 1.        , 1.        ,\n",
              "        1.        , 0.99971282, 1.        , 1.        , 0.99808587,\n",
              "        0.99997613, 1.        , 1.        , 1.        , 1.        ,\n",
              "        1.        , 1.        , 1.        , 1.        , 1.        ,\n",
              "        1.        , 0.99819964, 1.        , 1.        , 1.        ,\n",
              "        1.        , 1.        , 1.        , 1.        , 1.        ,\n",
              "        1.        , 1.        , 1.        , 0.99819964, 1.        ,\n",
              "        1.        , 1.        , 1.        , 1.        , 1.        ,\n",
              "        1.        , 1.        , 1.        , 1.        , 1.        ,\n",
              "        0.99819964, 1.        , 1.        ]),\n",
              " 'std_train_score': array([0.00000000e+00, 5.55111512e-17, 0.00000000e+00, 0.00000000e+00,\n",
              "        7.85046229e-17, 5.55111512e-17, 2.41808410e-04, 5.55111512e-17,\n",
              "        5.55111512e-17, 7.97798601e-04, 4.13495705e-05, 0.00000000e+00,\n",
              "        0.00000000e+00, 0.00000000e+00, 0.00000000e+00, 0.00000000e+00,\n",
              "        9.61481343e-17, 0.00000000e+00, 0.00000000e+00, 0.00000000e+00,\n",
              "        0.00000000e+00, 7.83182341e-04, 0.00000000e+00, 0.00000000e+00,\n",
              "        5.55111512e-17, 0.00000000e+00, 5.55111512e-17, 0.00000000e+00,\n",
              "        5.55111512e-17, 7.85046229e-17, 0.00000000e+00, 0.00000000e+00,\n",
              "        0.00000000e+00, 7.83182341e-04, 0.00000000e+00, 0.00000000e+00,\n",
              "        0.00000000e+00, 0.00000000e+00, 0.00000000e+00, 0.00000000e+00,\n",
              "        5.55111512e-17, 5.55111512e-17, 5.55111512e-17, 5.55111512e-17,\n",
              "        0.00000000e+00, 7.83182341e-04, 0.00000000e+00, 0.00000000e+00])}"
            ]
          },
          "metadata": {},
          "execution_count": 37
        }
      ]
    },
    {
      "cell_type": "code",
      "metadata": {
        "id": "3V9YzOaxvyUs",
        "colab": {
          "base_uri": "https://localhost:8080/",
          "height": 473
        },
        "outputId": "f14c97fb-bbd2-4246-fd04-f17eb9e8e58b"
      },
      "source": [
        "# podemos obtener todos los resultados\n",
        "results = (pd.DataFrame(grid_gbm_search.cv_results_)\n",
        "            #  .sort_values(by='mean_test_score', \n",
        "            #               ascending=False)\n",
        "            #  .reset_index(drop=True)\n",
        "             )\n",
        "\n",
        "results.head()"
      ],
      "execution_count": 38,
      "outputs": [
        {
          "output_type": "execute_result",
          "data": {
            "text/plain": [
              "   mean_fit_time  std_fit_time  mean_score_time  std_score_time  \\\n",
              "0       0.375061      0.226600         0.010079        0.008638   \n",
              "1       0.899020      0.532611         0.004945        0.000305   \n",
              "2       0.678121      0.334827         0.005161        0.000749   \n",
              "3       0.266543      0.184237         0.008487        0.005779   \n",
              "4       0.699915      0.225189         0.010146        0.009178   \n",
              "\n",
              "  param_max_depth param_min_samples_split param_n_estimators  \\\n",
              "0               2                     0.1                 50   \n",
              "1               2                     0.1                100   \n",
              "2               2                     0.1                150   \n",
              "3               2                     0.3                 50   \n",
              "4               2                     0.3                100   \n",
              "\n",
              "                                              params  split0_test_score  \\\n",
              "0  {'max_depth': 2, 'min_samples_split': 0.1, 'n_...           0.986486   \n",
              "1  {'max_depth': 2, 'min_samples_split': 0.1, 'n_...           0.985628   \n",
              "2  {'max_depth': 2, 'min_samples_split': 0.1, 'n_...           0.986486   \n",
              "3  {'max_depth': 2, 'min_samples_split': 0.3, 'n_...           0.986486   \n",
              "4  {'max_depth': 2, 'min_samples_split': 0.3, 'n_...           0.985628   \n",
              "\n",
              "   split1_test_score  ...  split3_test_score  mean_test_score  std_test_score  \\\n",
              "0           0.985993  ...           0.990846         0.986690        0.002664   \n",
              "1           0.986842  ...           0.996513         0.987887        0.005219   \n",
              "2           0.985993  ...           0.997384         0.987998        0.005676   \n",
              "3           0.984720  ...           0.993025         0.987462        0.003272   \n",
              "4           0.983447  ...           0.996077         0.986929        0.005398   \n",
              "\n",
              "   rank_test_score  split0_train_score  split1_train_score  \\\n",
              "0               28                 1.0                 1.0   \n",
              "1               16                 1.0                 1.0   \n",
              "2               15                 1.0                 1.0   \n",
              "3               21                 1.0                 1.0   \n",
              "4               25                 1.0                 1.0   \n",
              "\n",
              "   split2_train_score  split3_train_score  mean_train_score  std_train_score  \n",
              "0                 1.0                 1.0               1.0     0.000000e+00  \n",
              "1                 1.0                 1.0               1.0     5.551115e-17  \n",
              "2                 1.0                 1.0               1.0     0.000000e+00  \n",
              "3                 1.0                 1.0               1.0     0.000000e+00  \n",
              "4                 1.0                 1.0               1.0     7.850462e-17  \n",
              "\n",
              "[5 rows x 21 columns]"
            ],
            "text/html": [
              "\n",
              "  <div id=\"df-e5fec6f7-6501-4b18-bfe6-423c99952915\">\n",
              "    <div class=\"colab-df-container\">\n",
              "      <div>\n",
              "<style scoped>\n",
              "    .dataframe tbody tr th:only-of-type {\n",
              "        vertical-align: middle;\n",
              "    }\n",
              "\n",
              "    .dataframe tbody tr th {\n",
              "        vertical-align: top;\n",
              "    }\n",
              "\n",
              "    .dataframe thead th {\n",
              "        text-align: right;\n",
              "    }\n",
              "</style>\n",
              "<table border=\"1\" class=\"dataframe\">\n",
              "  <thead>\n",
              "    <tr style=\"text-align: right;\">\n",
              "      <th></th>\n",
              "      <th>mean_fit_time</th>\n",
              "      <th>std_fit_time</th>\n",
              "      <th>mean_score_time</th>\n",
              "      <th>std_score_time</th>\n",
              "      <th>param_max_depth</th>\n",
              "      <th>param_min_samples_split</th>\n",
              "      <th>param_n_estimators</th>\n",
              "      <th>params</th>\n",
              "      <th>split0_test_score</th>\n",
              "      <th>split1_test_score</th>\n",
              "      <th>...</th>\n",
              "      <th>split3_test_score</th>\n",
              "      <th>mean_test_score</th>\n",
              "      <th>std_test_score</th>\n",
              "      <th>rank_test_score</th>\n",
              "      <th>split0_train_score</th>\n",
              "      <th>split1_train_score</th>\n",
              "      <th>split2_train_score</th>\n",
              "      <th>split3_train_score</th>\n",
              "      <th>mean_train_score</th>\n",
              "      <th>std_train_score</th>\n",
              "    </tr>\n",
              "  </thead>\n",
              "  <tbody>\n",
              "    <tr>\n",
              "      <th>0</th>\n",
              "      <td>0.375061</td>\n",
              "      <td>0.226600</td>\n",
              "      <td>0.010079</td>\n",
              "      <td>0.008638</td>\n",
              "      <td>2</td>\n",
              "      <td>0.1</td>\n",
              "      <td>50</td>\n",
              "      <td>{'max_depth': 2, 'min_samples_split': 0.1, 'n_...</td>\n",
              "      <td>0.986486</td>\n",
              "      <td>0.985993</td>\n",
              "      <td>...</td>\n",
              "      <td>0.990846</td>\n",
              "      <td>0.986690</td>\n",
              "      <td>0.002664</td>\n",
              "      <td>28</td>\n",
              "      <td>1.0</td>\n",
              "      <td>1.0</td>\n",
              "      <td>1.0</td>\n",
              "      <td>1.0</td>\n",
              "      <td>1.0</td>\n",
              "      <td>0.000000e+00</td>\n",
              "    </tr>\n",
              "    <tr>\n",
              "      <th>1</th>\n",
              "      <td>0.899020</td>\n",
              "      <td>0.532611</td>\n",
              "      <td>0.004945</td>\n",
              "      <td>0.000305</td>\n",
              "      <td>2</td>\n",
              "      <td>0.1</td>\n",
              "      <td>100</td>\n",
              "      <td>{'max_depth': 2, 'min_samples_split': 0.1, 'n_...</td>\n",
              "      <td>0.985628</td>\n",
              "      <td>0.986842</td>\n",
              "      <td>...</td>\n",
              "      <td>0.996513</td>\n",
              "      <td>0.987887</td>\n",
              "      <td>0.005219</td>\n",
              "      <td>16</td>\n",
              "      <td>1.0</td>\n",
              "      <td>1.0</td>\n",
              "      <td>1.0</td>\n",
              "      <td>1.0</td>\n",
              "      <td>1.0</td>\n",
              "      <td>5.551115e-17</td>\n",
              "    </tr>\n",
              "    <tr>\n",
              "      <th>2</th>\n",
              "      <td>0.678121</td>\n",
              "      <td>0.334827</td>\n",
              "      <td>0.005161</td>\n",
              "      <td>0.000749</td>\n",
              "      <td>2</td>\n",
              "      <td>0.1</td>\n",
              "      <td>150</td>\n",
              "      <td>{'max_depth': 2, 'min_samples_split': 0.1, 'n_...</td>\n",
              "      <td>0.986486</td>\n",
              "      <td>0.985993</td>\n",
              "      <td>...</td>\n",
              "      <td>0.997384</td>\n",
              "      <td>0.987998</td>\n",
              "      <td>0.005676</td>\n",
              "      <td>15</td>\n",
              "      <td>1.0</td>\n",
              "      <td>1.0</td>\n",
              "      <td>1.0</td>\n",
              "      <td>1.0</td>\n",
              "      <td>1.0</td>\n",
              "      <td>0.000000e+00</td>\n",
              "    </tr>\n",
              "    <tr>\n",
              "      <th>3</th>\n",
              "      <td>0.266543</td>\n",
              "      <td>0.184237</td>\n",
              "      <td>0.008487</td>\n",
              "      <td>0.005779</td>\n",
              "      <td>2</td>\n",
              "      <td>0.3</td>\n",
              "      <td>50</td>\n",
              "      <td>{'max_depth': 2, 'min_samples_split': 0.3, 'n_...</td>\n",
              "      <td>0.986486</td>\n",
              "      <td>0.984720</td>\n",
              "      <td>...</td>\n",
              "      <td>0.993025</td>\n",
              "      <td>0.987462</td>\n",
              "      <td>0.003272</td>\n",
              "      <td>21</td>\n",
              "      <td>1.0</td>\n",
              "      <td>1.0</td>\n",
              "      <td>1.0</td>\n",
              "      <td>1.0</td>\n",
              "      <td>1.0</td>\n",
              "      <td>0.000000e+00</td>\n",
              "    </tr>\n",
              "    <tr>\n",
              "      <th>4</th>\n",
              "      <td>0.699915</td>\n",
              "      <td>0.225189</td>\n",
              "      <td>0.010146</td>\n",
              "      <td>0.009178</td>\n",
              "      <td>2</td>\n",
              "      <td>0.3</td>\n",
              "      <td>100</td>\n",
              "      <td>{'max_depth': 2, 'min_samples_split': 0.3, 'n_...</td>\n",
              "      <td>0.985628</td>\n",
              "      <td>0.983447</td>\n",
              "      <td>...</td>\n",
              "      <td>0.996077</td>\n",
              "      <td>0.986929</td>\n",
              "      <td>0.005398</td>\n",
              "      <td>25</td>\n",
              "      <td>1.0</td>\n",
              "      <td>1.0</td>\n",
              "      <td>1.0</td>\n",
              "      <td>1.0</td>\n",
              "      <td>1.0</td>\n",
              "      <td>7.850462e-17</td>\n",
              "    </tr>\n",
              "  </tbody>\n",
              "</table>\n",
              "<p>5 rows × 21 columns</p>\n",
              "</div>\n",
              "      <button class=\"colab-df-convert\" onclick=\"convertToInteractive('df-e5fec6f7-6501-4b18-bfe6-423c99952915')\"\n",
              "              title=\"Convert this dataframe to an interactive table.\"\n",
              "              style=\"display:none;\">\n",
              "        \n",
              "  <svg xmlns=\"http://www.w3.org/2000/svg\" height=\"24px\"viewBox=\"0 0 24 24\"\n",
              "       width=\"24px\">\n",
              "    <path d=\"M0 0h24v24H0V0z\" fill=\"none\"/>\n",
              "    <path d=\"M18.56 5.44l.94 2.06.94-2.06 2.06-.94-2.06-.94-.94-2.06-.94 2.06-2.06.94zm-11 1L8.5 8.5l.94-2.06 2.06-.94-2.06-.94L8.5 2.5l-.94 2.06-2.06.94zm10 10l.94 2.06.94-2.06 2.06-.94-2.06-.94-.94-2.06-.94 2.06-2.06.94z\"/><path d=\"M17.41 7.96l-1.37-1.37c-.4-.4-.92-.59-1.43-.59-.52 0-1.04.2-1.43.59L10.3 9.45l-7.72 7.72c-.78.78-.78 2.05 0 2.83L4 21.41c.39.39.9.59 1.41.59.51 0 1.02-.2 1.41-.59l7.78-7.78 2.81-2.81c.8-.78.8-2.07 0-2.86zM5.41 20L4 18.59l7.72-7.72 1.47 1.35L5.41 20z\"/>\n",
              "  </svg>\n",
              "      </button>\n",
              "      \n",
              "  <style>\n",
              "    .colab-df-container {\n",
              "      display:flex;\n",
              "      flex-wrap:wrap;\n",
              "      gap: 12px;\n",
              "    }\n",
              "\n",
              "    .colab-df-convert {\n",
              "      background-color: #E8F0FE;\n",
              "      border: none;\n",
              "      border-radius: 50%;\n",
              "      cursor: pointer;\n",
              "      display: none;\n",
              "      fill: #1967D2;\n",
              "      height: 32px;\n",
              "      padding: 0 0 0 0;\n",
              "      width: 32px;\n",
              "    }\n",
              "\n",
              "    .colab-df-convert:hover {\n",
              "      background-color: #E2EBFA;\n",
              "      box-shadow: 0px 1px 2px rgba(60, 64, 67, 0.3), 0px 1px 3px 1px rgba(60, 64, 67, 0.15);\n",
              "      fill: #174EA6;\n",
              "    }\n",
              "\n",
              "    [theme=dark] .colab-df-convert {\n",
              "      background-color: #3B4455;\n",
              "      fill: #D2E3FC;\n",
              "    }\n",
              "\n",
              "    [theme=dark] .colab-df-convert:hover {\n",
              "      background-color: #434B5C;\n",
              "      box-shadow: 0px 1px 3px 1px rgba(0, 0, 0, 0.15);\n",
              "      filter: drop-shadow(0px 1px 2px rgba(0, 0, 0, 0.3));\n",
              "      fill: #FFFFFF;\n",
              "    }\n",
              "  </style>\n",
              "\n",
              "      <script>\n",
              "        const buttonEl =\n",
              "          document.querySelector('#df-e5fec6f7-6501-4b18-bfe6-423c99952915 button.colab-df-convert');\n",
              "        buttonEl.style.display =\n",
              "          google.colab.kernel.accessAllowed ? 'block' : 'none';\n",
              "\n",
              "        async function convertToInteractive(key) {\n",
              "          const element = document.querySelector('#df-e5fec6f7-6501-4b18-bfe6-423c99952915');\n",
              "          const dataTable =\n",
              "            await google.colab.kernel.invokeFunction('convertToInteractive',\n",
              "                                                     [key], {});\n",
              "          if (!dataTable) return;\n",
              "\n",
              "          const docLinkHtml = 'Like what you see? Visit the ' +\n",
              "            '<a target=\"_blank\" href=https://colab.research.google.com/notebooks/data_table.ipynb>data table notebook</a>'\n",
              "            + ' to learn more about interactive tables.';\n",
              "          element.innerHTML = '';\n",
              "          dataTable['output_type'] = 'display_data';\n",
              "          await google.colab.output.renderOutput(dataTable, element);\n",
              "          const docLink = document.createElement('div');\n",
              "          docLink.innerHTML = docLinkHtml;\n",
              "          element.appendChild(docLink);\n",
              "        }\n",
              "      </script>\n",
              "    </div>\n",
              "  </div>\n",
              "  "
            ]
          },
          "metadata": {},
          "execution_count": 38
        }
      ]
    },
    {
      "cell_type": "code",
      "source": [
        "results[['mean_test_score','mean_train_score']].head()"
      ],
      "metadata": {
        "id": "ksnICS0gAFKf",
        "colab": {
          "base_uri": "https://localhost:8080/",
          "height": 206
        },
        "outputId": "0572f91d-cd96-426f-f333-5c2069ac7c3a"
      },
      "execution_count": 39,
      "outputs": [
        {
          "output_type": "execute_result",
          "data": {
            "text/plain": [
              "   mean_test_score  mean_train_score\n",
              "0         0.986690               1.0\n",
              "1         0.987887               1.0\n",
              "2         0.987998               1.0\n",
              "3         0.987462               1.0\n",
              "4         0.986929               1.0"
            ],
            "text/html": [
              "\n",
              "  <div id=\"df-9977ec01-9798-4542-a1df-2c64d2c28c47\">\n",
              "    <div class=\"colab-df-container\">\n",
              "      <div>\n",
              "<style scoped>\n",
              "    .dataframe tbody tr th:only-of-type {\n",
              "        vertical-align: middle;\n",
              "    }\n",
              "\n",
              "    .dataframe tbody tr th {\n",
              "        vertical-align: top;\n",
              "    }\n",
              "\n",
              "    .dataframe thead th {\n",
              "        text-align: right;\n",
              "    }\n",
              "</style>\n",
              "<table border=\"1\" class=\"dataframe\">\n",
              "  <thead>\n",
              "    <tr style=\"text-align: right;\">\n",
              "      <th></th>\n",
              "      <th>mean_test_score</th>\n",
              "      <th>mean_train_score</th>\n",
              "    </tr>\n",
              "  </thead>\n",
              "  <tbody>\n",
              "    <tr>\n",
              "      <th>0</th>\n",
              "      <td>0.986690</td>\n",
              "      <td>1.0</td>\n",
              "    </tr>\n",
              "    <tr>\n",
              "      <th>1</th>\n",
              "      <td>0.987887</td>\n",
              "      <td>1.0</td>\n",
              "    </tr>\n",
              "    <tr>\n",
              "      <th>2</th>\n",
              "      <td>0.987998</td>\n",
              "      <td>1.0</td>\n",
              "    </tr>\n",
              "    <tr>\n",
              "      <th>3</th>\n",
              "      <td>0.987462</td>\n",
              "      <td>1.0</td>\n",
              "    </tr>\n",
              "    <tr>\n",
              "      <th>4</th>\n",
              "      <td>0.986929</td>\n",
              "      <td>1.0</td>\n",
              "    </tr>\n",
              "  </tbody>\n",
              "</table>\n",
              "</div>\n",
              "      <button class=\"colab-df-convert\" onclick=\"convertToInteractive('df-9977ec01-9798-4542-a1df-2c64d2c28c47')\"\n",
              "              title=\"Convert this dataframe to an interactive table.\"\n",
              "              style=\"display:none;\">\n",
              "        \n",
              "  <svg xmlns=\"http://www.w3.org/2000/svg\" height=\"24px\"viewBox=\"0 0 24 24\"\n",
              "       width=\"24px\">\n",
              "    <path d=\"M0 0h24v24H0V0z\" fill=\"none\"/>\n",
              "    <path d=\"M18.56 5.44l.94 2.06.94-2.06 2.06-.94-2.06-.94-.94-2.06-.94 2.06-2.06.94zm-11 1L8.5 8.5l.94-2.06 2.06-.94-2.06-.94L8.5 2.5l-.94 2.06-2.06.94zm10 10l.94 2.06.94-2.06 2.06-.94-2.06-.94-.94-2.06-.94 2.06-2.06.94z\"/><path d=\"M17.41 7.96l-1.37-1.37c-.4-.4-.92-.59-1.43-.59-.52 0-1.04.2-1.43.59L10.3 9.45l-7.72 7.72c-.78.78-.78 2.05 0 2.83L4 21.41c.39.39.9.59 1.41.59.51 0 1.02-.2 1.41-.59l7.78-7.78 2.81-2.81c.8-.78.8-2.07 0-2.86zM5.41 20L4 18.59l7.72-7.72 1.47 1.35L5.41 20z\"/>\n",
              "  </svg>\n",
              "      </button>\n",
              "      \n",
              "  <style>\n",
              "    .colab-df-container {\n",
              "      display:flex;\n",
              "      flex-wrap:wrap;\n",
              "      gap: 12px;\n",
              "    }\n",
              "\n",
              "    .colab-df-convert {\n",
              "      background-color: #E8F0FE;\n",
              "      border: none;\n",
              "      border-radius: 50%;\n",
              "      cursor: pointer;\n",
              "      display: none;\n",
              "      fill: #1967D2;\n",
              "      height: 32px;\n",
              "      padding: 0 0 0 0;\n",
              "      width: 32px;\n",
              "    }\n",
              "\n",
              "    .colab-df-convert:hover {\n",
              "      background-color: #E2EBFA;\n",
              "      box-shadow: 0px 1px 2px rgba(60, 64, 67, 0.3), 0px 1px 3px 1px rgba(60, 64, 67, 0.15);\n",
              "      fill: #174EA6;\n",
              "    }\n",
              "\n",
              "    [theme=dark] .colab-df-convert {\n",
              "      background-color: #3B4455;\n",
              "      fill: #D2E3FC;\n",
              "    }\n",
              "\n",
              "    [theme=dark] .colab-df-convert:hover {\n",
              "      background-color: #434B5C;\n",
              "      box-shadow: 0px 1px 3px 1px rgba(0, 0, 0, 0.15);\n",
              "      filter: drop-shadow(0px 1px 2px rgba(0, 0, 0, 0.3));\n",
              "      fill: #FFFFFF;\n",
              "    }\n",
              "  </style>\n",
              "\n",
              "      <script>\n",
              "        const buttonEl =\n",
              "          document.querySelector('#df-9977ec01-9798-4542-a1df-2c64d2c28c47 button.colab-df-convert');\n",
              "        buttonEl.style.display =\n",
              "          google.colab.kernel.accessAllowed ? 'block' : 'none';\n",
              "\n",
              "        async function convertToInteractive(key) {\n",
              "          const element = document.querySelector('#df-9977ec01-9798-4542-a1df-2c64d2c28c47');\n",
              "          const dataTable =\n",
              "            await google.colab.kernel.invokeFunction('convertToInteractive',\n",
              "                                                     [key], {});\n",
              "          if (!dataTable) return;\n",
              "\n",
              "          const docLinkHtml = 'Like what you see? Visit the ' +\n",
              "            '<a target=\"_blank\" href=https://colab.research.google.com/notebooks/data_table.ipynb>data table notebook</a>'\n",
              "            + ' to learn more about interactive tables.';\n",
              "          element.innerHTML = '';\n",
              "          dataTable['output_type'] = 'display_data';\n",
              "          await google.colab.output.renderOutput(dataTable, element);\n",
              "          const docLink = document.createElement('div');\n",
              "          docLink.innerHTML = docLinkHtml;\n",
              "          element.appendChild(docLink);\n",
              "        }\n",
              "      </script>\n",
              "    </div>\n",
              "  </div>\n",
              "  "
            ]
          },
          "metadata": {},
          "execution_count": 39
        }
      ]
    },
    {
      "cell_type": "code",
      "source": [
        "print(results.mean_train_score.mean())\n",
        "print(results.mean_test_score.mean())"
      ],
      "metadata": {
        "id": "Nylp-wfjVtRT",
        "colab": {
          "base_uri": "https://localhost:8080/"
        },
        "outputId": "f5338851-8ac3-4213-ddee-2b81ff7bf738"
      },
      "execution_count": 40,
      "outputs": [
        {
          "output_type": "stream",
          "name": "stdout",
          "text": [
            "0.9998411191855808\n",
            "0.9861964342578998\n"
          ]
        }
      ]
    },
    {
      "cell_type": "code",
      "source": [],
      "metadata": {
        "id": "1fzdnLI3VtcD"
      },
      "execution_count": 40,
      "outputs": []
    },
    {
      "cell_type": "code",
      "source": [
        "# Graficamos los resultados\n",
        "results['mean_test_score'].plot(yerr=[results['std_test_score'], results['std_test_score']], subplots=True)\n",
        "\n",
        "plt.ylabel('Mean test score')\n",
        "plt.xlabel('Combinaciones de hiperparametros')"
      ],
      "metadata": {
        "id": "1JjTp9HHAFXT",
        "colab": {
          "base_uri": "https://localhost:8080/",
          "height": 296
        },
        "outputId": "e30caf3c-7c29-4e35-91e0-de670fa2350b"
      },
      "execution_count": 41,
      "outputs": [
        {
          "output_type": "execute_result",
          "data": {
            "text/plain": [
              "Text(0.5, 0, 'Combinaciones de hiperparametros')"
            ]
          },
          "metadata": {},
          "execution_count": 41
        },
        {
          "output_type": "display_data",
          "data": {
            "text/plain": [
              "<Figure size 432x288 with 1 Axes>"
            ],
            "image/png": "[encoded data removed]"
          },
          "metadata": {
            "needs_background": "light"
          }
        }
      ]
    },
    {
      "cell_type": "markdown",
      "metadata": {
        "id": "IWFLyrUDzYR9"
      },
      "source": [
        "## __`RandomizedSearchCV`__"
      ]
    },
    {
      "cell_type": "markdown",
      "source": [
        "Referecnias:\n",
        "\n",
        "1. [Randomized search on hyper parameters](https://scikit-learn.org/stable/modules/generated/sklearn.model_selection.RandomizedSearchCV.html)\n",
        "2. [Randomized Parameter Optimization](https://scikit-learn.org/stable/modules/grid_search.html#randomized-parameter-optimization)"
      ],
      "metadata": {
        "id": "xmS7Xjey-34Z"
      }
    },
    {
      "cell_type": "code",
      "metadata": {
        "id": "x8Llyayfv7w8"
      },
      "source": [
        "from sklearn.model_selection import RandomizedSearchCV"
      ],
      "execution_count": 42,
      "outputs": []
    },
    {
      "cell_type": "code",
      "source": [
        "# Partimos los datos\n",
        "X_train, X_test, y_train, y_test = train_test_split(\n",
        "    X, y, test_size=0.3, random_state=0)"
      ],
      "metadata": {
        "id": "aAjqLuKtBr3y"
      },
      "execution_count": 43,
      "outputs": []
    },
    {
      "cell_type": "code",
      "source": [],
      "metadata": {
        "id": "xhdDxfE88RBo"
      },
      "execution_count": 43,
      "outputs": []
    },
    {
      "cell_type": "markdown",
      "source": [
        "__`RandomizedSearchCV`__ toma muestras de los rangos seleccionados en el __param grid__, para esta tarea podemos usar:"
      ],
      "metadata": {
        "id": "e8E7ik2r8Rss"
      }
    },
    {
      "cell_type": "markdown",
      "source": [
        "* `stats.randint(i, n)` para tomar una muestra de enteros en el intervalo (i, n) \n",
        "* `stats.uniform(a, b)` para tomar una muestra de los reales en el intervalo (a, b) \n",
        "* `(class_01, class_02, class_03, class_04)` para seleccionar alguna de las clases"
      ],
      "metadata": {
        "id": "x07Pa7AD9BBw"
      }
    },
    {
      "cell_type": "code",
      "source": [
        "# # instanciamos un gbm\n",
        "gbm = GradientBoostingClassifier(random_state=0)"
      ],
      "metadata": {
        "id": "cvTT8tBkF6pd"
      },
      "execution_count": 44,
      "outputs": []
    },
    {
      "cell_type": "code",
      "source": [],
      "metadata": {
        "id": "bkK6v5GTXsFa"
      },
      "execution_count": 44,
      "outputs": []
    },
    {
      "cell_type": "code",
      "source": [
        "# Creamos el espacio de hiperparametros\n",
        "param_grid = dict(\n",
        "    n_estimators=stats.randint(50, 150),\n",
        "    min_samples_split=stats.uniform(.1, .7),\n",
        "    max_depth=stats.randint(2, 15)\n",
        "    )"
      ],
      "metadata": {
        "id": "2NBhylfuClXh"
      },
      "execution_count": 45,
      "outputs": []
    },
    {
      "cell_type": "code",
      "source": [],
      "metadata": {
        "id": "4A7QQyuVHWm6"
      },
      "execution_count": 45,
      "outputs": []
    },
    {
      "cell_type": "markdown",
      "source": [
        "Con el parametro `n_iter` indicamos cuantos ajustes deseamos que sean realizados"
      ],
      "metadata": {
        "id": "7NGlvX1UCmQ-"
      }
    },
    {
      "cell_type": "code",
      "metadata": {
        "id": "uj2wQUBNv7t_"
      },
      "source": [
        "# Create el objeto RandomizedSearchCV\n",
        "rand_gbm_search = RandomizedSearchCV(gbm,\n",
        "                                     param_grid,\n",
        "                                     scoring='roc_auc',\n",
        "                                     cv=4,\n",
        "                                     n_iter = 40, # Con este argumento indicamos cuantas muestras queremos que sean tomadas (arriba de 40 es un bune numero)\n",
        "                                     random_state=10,\n",
        "                                     n_jobs=-1,\n",
        "                                     refit=True)"
      ],
      "execution_count": 46,
      "outputs": []
    },
    {
      "cell_type": "code",
      "metadata": {
        "id": "5871H88Hv7zZ",
        "colab": {
          "base_uri": "https://localhost:8080/"
        },
        "outputId": "7e208555-3b2c-40d7-ba64-97cb3cbe8c9a"
      },
      "source": [
        "%%time\n",
        "rand_gbm_search.fit(X_train, y_train)"
      ],
      "execution_count": 47,
      "outputs": [
        {
          "output_type": "stream",
          "name": "stdout",
          "text": [
            "CPU times: user 1.73 s, sys: 49.9 ms, total: 1.78 s\n",
            "Wall time: 39.3 s\n"
          ]
        },
        {
          "output_type": "execute_result",
          "data": {
            "text/plain": [
              "RandomizedSearchCV(cv=4, estimator=GradientBoostingClassifier(random_state=0),\n",
              "                   n_iter=40, n_jobs=-1,\n",
              "                   param_distributions={'max_depth': <scipy.stats._distn_infrastructure.rv_frozen object at 0x7fc03d774dd0>,\n",
              "                                        'min_samples_split': <scipy.stats._distn_infrastructure.rv_frozen object at 0x7fc03d774290>,\n",
              "                                        'n_estimators': <scipy.stats._distn_infrastructure.rv_frozen object at 0x7fc03d774590>},\n",
              "                   random_state=10, scoring='roc_auc')"
            ]
          },
          "metadata": {},
          "execution_count": 47
        }
      ]
    },
    {
      "cell_type": "code",
      "source": [
        "# Usamos random_rf para generar predicciones\n",
        "y_pred = rand_gbm_search.predict(X_test)"
      ],
      "metadata": {
        "id": "1gipERg_J-Wk"
      },
      "execution_count": 48,
      "outputs": []
    },
    {
      "cell_type": "code",
      "source": [
        "print(classification_report(y_test, y_pred))\n",
        "print('-'*30)\n",
        "print(roc_auc_score(y_test, y_pred))"
      ],
      "metadata": {
        "id": "axXBKwBZKM6i",
        "colab": {
          "base_uri": "https://localhost:8080/"
        },
        "outputId": "857bb8af-f5d0-461e-d9ba-e7d1e4e9d0ff"
      },
      "execution_count": 49,
      "outputs": [
        {
          "output_type": "stream",
          "name": "stdout",
          "text": [
            "              precision    recall  f1-score   support\n",
            "\n",
            "           0       0.98      0.99      0.99       108\n",
            "           1       0.98      0.97      0.98        63\n",
            "\n",
            "    accuracy                           0.98       171\n",
            "   macro avg       0.98      0.98      0.98       171\n",
            "weighted avg       0.98      0.98      0.98       171\n",
            "\n",
            "------------------------------\n",
            "0.9794973544973545\n"
          ]
        }
      ]
    },
    {
      "cell_type": "code",
      "metadata": {
        "id": "8PdT-mRY0BTF",
        "colab": {
          "base_uri": "https://localhost:8080/"
        },
        "outputId": "ac170f94-2466-4d2a-b487-11b8207703f8"
      },
      "source": [
        "print(rand_gbm_search.best_params_)"
      ],
      "execution_count": 50,
      "outputs": [
        {
          "output_type": "stream",
          "name": "stdout",
          "text": [
            "{'max_depth': 5, 'min_samples_split': 0.36420846531236595, 'n_estimators': 112}\n"
          ]
        }
      ]
    },
    {
      "cell_type": "code",
      "source": [
        "results = (pd.DataFrame(rand_gbm_search.cv_results_)\n",
        "             .sort_values(by='mean_test_score', ascending=False)\n",
        "             .reset_index(drop=True))"
      ],
      "metadata": {
        "id": "q9RJg30iGl1l"
      },
      "execution_count": 51,
      "outputs": []
    },
    {
      "cell_type": "code",
      "source": [
        "(results\n",
        " .loc[:,['param_max_depth', \n",
        "         'param_min_samples_split', \n",
        "         'param_n_estimators',\n",
        "         'mean_test_score', \n",
        "         'std_test_score',]]\n",
        " .head(3))"
      ],
      "metadata": {
        "id": "Twd99I-6HBly",
        "colab": {
          "base_uri": "https://localhost:8080/",
          "height": 143
        },
        "outputId": "3a7c7a48-4ffc-4a6d-d54b-ad4976e42ce8"
      },
      "execution_count": 52,
      "outputs": [
        {
          "output_type": "execute_result",
          "data": {
            "text/plain": [
              "  param_max_depth param_min_samples_split param_n_estimators  mean_test_score  \\\n",
              "0               5                0.364208                112         0.990586   \n",
              "1               3                0.742442                127         0.989603   \n",
              "2               5                0.127971                 67         0.989499   \n",
              "\n",
              "   std_test_score  \n",
              "0        0.004564  \n",
              "1        0.006588  \n",
              "2        0.002226  "
            ],
            "text/html": [
              "\n",
              "  <div id=\"df-f9d418a1-6675-4e21-a304-fa62f35b1ada\">\n",
              "    <div class=\"colab-df-container\">\n",
              "      <div>\n",
              "<style scoped>\n",
              "    .dataframe tbody tr th:only-of-type {\n",
              "        vertical-align: middle;\n",
              "    }\n",
              "\n",
              "    .dataframe tbody tr th {\n",
              "        vertical-align: top;\n",
              "    }\n",
              "\n",
              "    .dataframe thead th {\n",
              "        text-align: right;\n",
              "    }\n",
              "</style>\n",
              "<table border=\"1\" class=\"dataframe\">\n",
              "  <thead>\n",
              "    <tr style=\"text-align: right;\">\n",
              "      <th></th>\n",
              "      <th>param_max_depth</th>\n",
              "      <th>param_min_samples_split</th>\n",
              "      <th>param_n_estimators</th>\n",
              "      <th>mean_test_score</th>\n",
              "      <th>std_test_score</th>\n",
              "    </tr>\n",
              "  </thead>\n",
              "  <tbody>\n",
              "    <tr>\n",
              "      <th>0</th>\n",
              "      <td>5</td>\n",
              "      <td>0.364208</td>\n",
              "      <td>112</td>\n",
              "      <td>0.990586</td>\n",
              "      <td>0.004564</td>\n",
              "    </tr>\n",
              "    <tr>\n",
              "      <th>1</th>\n",
              "      <td>3</td>\n",
              "      <td>0.742442</td>\n",
              "      <td>127</td>\n",
              "      <td>0.989603</td>\n",
              "      <td>0.006588</td>\n",
              "    </tr>\n",
              "    <tr>\n",
              "      <th>2</th>\n",
              "      <td>5</td>\n",
              "      <td>0.127971</td>\n",
              "      <td>67</td>\n",
              "      <td>0.989499</td>\n",
              "      <td>0.002226</td>\n",
              "    </tr>\n",
              "  </tbody>\n",
              "</table>\n",
              "</div>\n",
              "      <button class=\"colab-df-convert\" onclick=\"convertToInteractive('df-f9d418a1-6675-4e21-a304-fa62f35b1ada')\"\n",
              "              title=\"Convert this dataframe to an interactive table.\"\n",
              "              style=\"display:none;\">\n",
              "        \n",
              "  <svg xmlns=\"http://www.w3.org/2000/svg\" height=\"24px\"viewBox=\"0 0 24 24\"\n",
              "       width=\"24px\">\n",
              "    <path d=\"M0 0h24v24H0V0z\" fill=\"none\"/>\n",
              "    <path d=\"M18.56 5.44l.94 2.06.94-2.06 2.06-.94-2.06-.94-.94-2.06-.94 2.06-2.06.94zm-11 1L8.5 8.5l.94-2.06 2.06-.94-2.06-.94L8.5 2.5l-.94 2.06-2.06.94zm10 10l.94 2.06.94-2.06 2.06-.94-2.06-.94-.94-2.06-.94 2.06-2.06.94z\"/><path d=\"M17.41 7.96l-1.37-1.37c-.4-.4-.92-.59-1.43-.59-.52 0-1.04.2-1.43.59L10.3 9.45l-7.72 7.72c-.78.78-.78 2.05 0 2.83L4 21.41c.39.39.9.59 1.41.59.51 0 1.02-.2 1.41-.59l7.78-7.78 2.81-2.81c.8-.78.8-2.07 0-2.86zM5.41 20L4 18.59l7.72-7.72 1.47 1.35L5.41 20z\"/>\n",
              "  </svg>\n",
              "      </button>\n",
              "      \n",
              "  <style>\n",
              "    .colab-df-container {\n",
              "      display:flex;\n",
              "      flex-wrap:wrap;\n",
              "      gap: 12px;\n",
              "    }\n",
              "\n",
              "    .colab-df-convert {\n",
              "      background-color: #E8F0FE;\n",
              "      border: none;\n",
              "      border-radius: 50%;\n",
              "      cursor: pointer;\n",
              "      display: none;\n",
              "      fill: #1967D2;\n",
              "      height: 32px;\n",
              "      padding: 0 0 0 0;\n",
              "      width: 32px;\n",
              "    }\n",
              "\n",
              "    .colab-df-convert:hover {\n",
              "      background-color: #E2EBFA;\n",
              "      box-shadow: 0px 1px 2px rgba(60, 64, 67, 0.3), 0px 1px 3px 1px rgba(60, 64, 67, 0.15);\n",
              "      fill: #174EA6;\n",
              "    }\n",
              "\n",
              "    [theme=dark] .colab-df-convert {\n",
              "      background-color: #3B4455;\n",
              "      fill: #D2E3FC;\n",
              "    }\n",
              "\n",
              "    [theme=dark] .colab-df-convert:hover {\n",
              "      background-color: #434B5C;\n",
              "      box-shadow: 0px 1px 3px 1px rgba(0, 0, 0, 0.15);\n",
              "      filter: drop-shadow(0px 1px 2px rgba(0, 0, 0, 0.3));\n",
              "      fill: #FFFFFF;\n",
              "    }\n",
              "  </style>\n",
              "\n",
              "      <script>\n",
              "        const buttonEl =\n",
              "          document.querySelector('#df-f9d418a1-6675-4e21-a304-fa62f35b1ada button.colab-df-convert');\n",
              "        buttonEl.style.display =\n",
              "          google.colab.kernel.accessAllowed ? 'block' : 'none';\n",
              "\n",
              "        async function convertToInteractive(key) {\n",
              "          const element = document.querySelector('#df-f9d418a1-6675-4e21-a304-fa62f35b1ada');\n",
              "          const dataTable =\n",
              "            await google.colab.kernel.invokeFunction('convertToInteractive',\n",
              "                                                     [key], {});\n",
              "          if (!dataTable) return;\n",
              "\n",
              "          const docLinkHtml = 'Like what you see? Visit the ' +\n",
              "            '<a target=\"_blank\" href=https://colab.research.google.com/notebooks/data_table.ipynb>data table notebook</a>'\n",
              "            + ' to learn more about interactive tables.';\n",
              "          element.innerHTML = '';\n",
              "          dataTable['output_type'] = 'display_data';\n",
              "          await google.colab.output.renderOutput(dataTable, element);\n",
              "          const docLink = document.createElement('div');\n",
              "          docLink.innerHTML = docLinkHtml;\n",
              "          element.appendChild(docLink);\n",
              "        }\n",
              "      </script>\n",
              "    </div>\n",
              "  </div>\n",
              "  "
            ]
          },
          "metadata": {},
          "execution_count": 52
        }
      ]
    },
    {
      "cell_type": "code",
      "source": [
        "# Graficamos el performance del modelo y el error\n",
        "results['mean_test_score'].plot(yerr=[results['std_test_score'], results['std_test_score']], subplots=True)\n",
        "\n",
        "plt.ylabel('Mean test score')\n",
        "plt.xlabel('Combinaciones de hiperparametros')"
      ],
      "metadata": {
        "id": "RgtGEvxRHlP4",
        "colab": {
          "base_uri": "https://localhost:8080/",
          "height": 296
        },
        "outputId": "b37eb4d4-0e51-4080-d795-201f7826eb69"
      },
      "execution_count": 53,
      "outputs": [
        {
          "output_type": "execute_result",
          "data": {
            "text/plain": [
              "Text(0.5, 0, 'Combinaciones de hiperparametros')"
            ]
          },
          "metadata": {},
          "execution_count": 53
        },
        {
          "output_type": "display_data",
          "data": {
            "text/plain": [
              "<Figure size 432x288 with 1 Axes>"
            ],
            "image/png": "[encoded data removed]"
          },
          "metadata": {
            "needs_background": "light"
          }
        }
      ]
    },
    {
      "cell_type": "markdown",
      "source": [
        "## Métodos de optimización bayesiana"
      ],
      "metadata": {
        "id": "zQ3-0daDmkTK"
      }
    },
    {
      "cell_type": "markdown",
      "source": [
        "* [scikit opt](https://scikit-optimize.github.io/stable/)\n",
        "* [optuna](https://optuna.org/)\n",
        "* [hyperopt](https://github.com/hyperopt/hyperopt)"
      ],
      "metadata": {
        "id": "kE8_WjHImoS4"
      }
    },
    {
      "cell_type": "markdown",
      "source": [
        "### scikit opt"
      ],
      "metadata": {
        "id": "ODkBDAuiFo-o"
      }
    },
    {
      "cell_type": "code",
      "source": [
        "!pip install scikit-optimize"
      ],
      "metadata": {
        "id": "AW55V7F4B5hR",
        "colab": {
          "base_uri": "https://localhost:8080/"
        },
        "outputId": "f30f6962-b268-48c1-e78e-52088bcc2e40"
      },
      "execution_count": 54,
      "outputs": [
        {
          "output_type": "stream",
          "name": "stdout",
          "text": [
            "Looking in indexes: https://pypi.org/simple, https://us-python.pkg.dev/colab-wheels/public/simple/\n",
            "Collecting scikit-optimize\n",
            "  Downloading scikit_optimize-0.9.0-py2.py3-none-any.whl (100 kB)\n",
            "\u001b[K     |████████████████████████████████| 100 kB 4.8 MB/s \n",
            "\u001b[?25hRequirement already satisfied: joblib>=0.11 in /usr/local/lib/python3.7/dist-packages (from scikit-optimize) (1.2.0)\n",
            "Requirement already satisfied: scipy>=0.19.1 in /usr/local/lib/python3.7/dist-packages (from scikit-optimize) (1.7.3)\n",
            "Requirement already satisfied: scikit-learn>=0.20.0 in /usr/local/lib/python3.7/dist-packages (from scikit-optimize) (1.0.2)\n",
            "Requirement already satisfied: numpy>=1.13.3 in /usr/local/lib/python3.7/dist-packages (from scikit-optimize) (1.21.6)\n",
            "Collecting pyaml>=16.9\n",
            "  Downloading pyaml-21.10.1-py2.py3-none-any.whl (24 kB)\n",
            "Requirement already satisfied: PyYAML in /usr/local/lib/python3.7/dist-packages (from pyaml>=16.9->scikit-optimize) (6.0)\n",
            "Requirement already satisfied: threadpoolctl>=2.0.0 in /usr/local/lib/python3.7/dist-packages (from scikit-learn>=0.20.0->scikit-optimize) (3.1.0)\n",
            "Installing collected packages: pyaml, scikit-optimize\n",
            "Successfully installed pyaml-21.10.1 scikit-optimize-0.9.0\n"
          ]
        }
      ]
    },
    {
      "cell_type": "code",
      "source": [
        "from skopt import BayesSearchCV"
      ],
      "metadata": {
        "id": "NAm1ff3JBdJE"
      },
      "execution_count": 55,
      "outputs": []
    },
    {
      "cell_type": "code",
      "source": [
        "# load dataset\n",
        "boston_X, boston_y = load_boston(return_X_y=True)\n",
        "X = pd.DataFrame(boston_X)\n",
        "y = pd.Series(boston_y)"
      ],
      "metadata": {
        "id": "J3HX-X4mCCIt",
        "colab": {
          "base_uri": "https://localhost:8080/"
        },
        "outputId": "49f99e86-8ff0-44ba-9b07-0ea77d153813"
      },
      "execution_count": 56,
      "outputs": [
        {
          "output_type": "stream",
          "name": "stderr",
          "text": [
            "/usr/local/lib/python3.7/dist-packages/sklearn/utils/deprecation.py:87: FutureWarning: Function load_boston is deprecated; `load_boston` is deprecated in 1.0 and will be removed in 1.2.\n",
            "\n",
            "    The Boston housing prices dataset has an ethical problem. You can refer to\n",
            "    the documentation of this function for further details.\n",
            "\n",
            "    The scikit-learn maintainers therefore strongly discourage the use of this\n",
            "    dataset unless the purpose of the code is to study and educate about\n",
            "    ethical issues in data science and machine learning.\n",
            "\n",
            "    In this special case, you can fetch the dataset from the original\n",
            "    source::\n",
            "\n",
            "        import pandas as pd\n",
            "        import numpy as np\n",
            "\n",
            "\n",
            "        data_url = \"http://lib.stat.cmu.edu/datasets/boston\"\n",
            "        raw_df = pd.read_csv(data_url, sep=\"\\s+\", skiprows=22, header=None)\n",
            "        data = np.hstack([raw_df.values[::2, :], raw_df.values[1::2, :2]])\n",
            "        target = raw_df.values[1::2, 2]\n",
            "\n",
            "    Alternative datasets include the California housing dataset (i.e.\n",
            "    :func:`~sklearn.datasets.fetch_california_housing`) and the Ames housing\n",
            "    dataset. You can load the datasets as follows::\n",
            "\n",
            "        from sklearn.datasets import fetch_california_housing\n",
            "        housing = fetch_california_housing()\n",
            "\n",
            "    for the California housing dataset and::\n",
            "\n",
            "        from sklearn.datasets import fetch_openml\n",
            "        housing = fetch_openml(name=\"house_prices\", as_frame=True)\n",
            "\n",
            "    for the Ames housing dataset.\n",
            "    \n",
            "  warnings.warn(msg, category=FutureWarning)\n"
          ]
        }
      ]
    },
    {
      "cell_type": "code",
      "source": [
        "# split dataset into a train and test set\n",
        "\n",
        "X_train, X_test, y_train, y_test = train_test_split(\n",
        "    X, y, test_size=0.3, random_state=0)\n",
        "\n",
        "X_train.shape, X_test.shape"
      ],
      "metadata": {
        "id": "9oqvd3VDCCOX",
        "colab": {
          "base_uri": "https://localhost:8080/"
        },
        "outputId": "65a99558-1c7a-45b7-f1f3-57560fc76704"
      },
      "execution_count": 57,
      "outputs": [
        {
          "output_type": "execute_result",
          "data": {
            "text/plain": [
              "((354, 13), (152, 13))"
            ]
          },
          "metadata": {},
          "execution_count": 57
        }
      ]
    },
    {
      "cell_type": "code",
      "source": [
        "# set up the model\n",
        "gbm = GradientBoostingRegressor(random_state=0)"
      ],
      "metadata": {
        "id": "0OyjTPITCCRG"
      },
      "execution_count": 58,
      "outputs": []
    },
    {
      "cell_type": "code",
      "source": [
        "# hyperparameter space\n",
        "\n",
        "param_grid = {\n",
        "    'n_estimators': (10, 120), \n",
        "    'min_samples_split': (0.001, 0.99, 'log-uniform'),\n",
        "    'max_depth': (1, 8),\n",
        "    'loss': ['ls', 'lad', 'huber'],\n",
        "}"
      ],
      "metadata": {
        "id": "CLYOZGSnCCTe"
      },
      "execution_count": 59,
      "outputs": []
    },
    {
      "cell_type": "code",
      "source": [
        "# set up the search\n",
        "search = BayesSearchCV(estimator=gbm,\n",
        "                       search_spaces=param_grid,\n",
        "                       scoring='neg_mean_squared_error',\n",
        "                       cv=3,\n",
        "                       n_iter=30,\n",
        "                       random_state=10,\n",
        "                       n_jobs=-1,\n",
        "                       refit=True)"
      ],
      "metadata": {
        "id": "FZOLfMsZCCV6"
      },
      "execution_count": 60,
      "outputs": []
    },
    {
      "cell_type": "code",
      "source": [
        "# find best hyperparameters\n",
        "search.fit(X_train, y_train)"
      ],
      "metadata": {
        "id": "XNJ6QPhfCjHL",
        "colab": {
          "base_uri": "https://localhost:8080/"
        },
        "outputId": "f5f5c895-506d-4a82-dfd5-548fb0936406"
      },
      "execution_count": 61,
      "outputs": [
        {
          "output_type": "stream",
          "name": "stderr",
          "text": [
            "/usr/local/lib/python3.7/dist-packages/skopt/optimizer/optimizer.py:449: UserWarning: The objective has been evaluated at this point before.\n",
            "  warnings.warn(\"The objective has been evaluated \"\n",
            "/usr/local/lib/python3.7/dist-packages/skopt/optimizer/optimizer.py:449: UserWarning: The objective has been evaluated at this point before.\n",
            "  warnings.warn(\"The objective has been evaluated \"\n",
            "/usr/local/lib/python3.7/dist-packages/skopt/optimizer/optimizer.py:449: UserWarning: The objective has been evaluated at this point before.\n",
            "  warnings.warn(\"The objective has been evaluated \"\n",
            "/usr/local/lib/python3.7/dist-packages/skopt/optimizer/optimizer.py:449: UserWarning: The objective has been evaluated at this point before.\n",
            "  warnings.warn(\"The objective has been evaluated \"\n",
            "/usr/local/lib/python3.7/dist-packages/skopt/optimizer/optimizer.py:449: UserWarning: The objective has been evaluated at this point before.\n",
            "  warnings.warn(\"The objective has been evaluated \"\n"
          ]
        },
        {
          "output_type": "execute_result",
          "data": {
            "text/plain": [
              "BayesSearchCV(cv=3, estimator=GradientBoostingRegressor(random_state=0),\n",
              "              n_iter=30, n_jobs=-1, random_state=10,\n",
              "              scoring='neg_mean_squared_error',\n",
              "              search_spaces={'loss': ['ls', 'lad', 'huber'],\n",
              "                             'max_depth': (1, 8),\n",
              "                             'min_samples_split': (0.001, 0.99, 'log-uniform'),\n",
              "                             'n_estimators': (10, 120)})"
            ]
          },
          "metadata": {},
          "execution_count": 61
        }
      ]
    },
    {
      "cell_type": "code",
      "source": [
        "# the best hyperparameters are stored in an attribute\n",
        "search.best_params_"
      ],
      "metadata": {
        "id": "KGfP2JCfCjJ-",
        "colab": {
          "base_uri": "https://localhost:8080/"
        },
        "outputId": "4c241634-341c-4e60-ae76-32f34dbf411e"
      },
      "execution_count": 62,
      "outputs": [
        {
          "output_type": "execute_result",
          "data": {
            "text/plain": [
              "OrderedDict([('loss', 'huber'),\n",
              "             ('max_depth', 3),\n",
              "             ('min_samples_split', 0.001),\n",
              "             ('n_estimators', 119)])"
            ]
          },
          "metadata": {},
          "execution_count": 62
        }
      ]
    },
    {
      "cell_type": "code",
      "source": [
        "# the best score\n",
        "search.best_score_"
      ],
      "metadata": {
        "id": "9Z45t3HcCjM3",
        "colab": {
          "base_uri": "https://localhost:8080/"
        },
        "outputId": "4f265c93-2a77-4708-a50c-b71e16f3f7b5"
      },
      "execution_count": 63,
      "outputs": [
        {
          "output_type": "execute_result",
          "data": {
            "text/plain": [
              "-11.101044956670878"
            ]
          },
          "metadata": {},
          "execution_count": 63
        }
      ]
    },
    {
      "cell_type": "code",
      "source": [
        "# we also find the data for all models evaluated\n",
        "\n",
        "results = pd.DataFrame(search.cv_results_)\n",
        "\n",
        "print(results.shape)\n",
        "\n",
        "results.head(5)"
      ],
      "metadata": {
        "id": "Baf9Vt5KCjPG",
        "colab": {
          "base_uri": "https://localhost:8080/",
          "height": 461
        },
        "outputId": "f8f9b66a-235e-4c0f-966e-ec17d8514cda"
      },
      "execution_count": 64,
      "outputs": [
        {
          "output_type": "stream",
          "name": "stdout",
          "text": [
            "(30, 15)\n"
          ]
        },
        {
          "output_type": "execute_result",
          "data": {
            "text/plain": [
              "   mean_fit_time  std_fit_time  mean_score_time  std_score_time param_loss  \\\n",
              "0       0.346457      0.064629         0.002877        0.000626      huber   \n",
              "1       0.072526      0.012192         0.004331        0.001889         ls   \n",
              "2       0.210915      0.017882         0.003122        0.000260        lad   \n",
              "3       0.190761      0.053897         0.003343        0.000059         ls   \n",
              "4       0.075521      0.007050         0.003012        0.000707         ls   \n",
              "\n",
              "  param_max_depth param_min_samples_split param_n_estimators  \\\n",
              "0               3                0.044228                 80   \n",
              "1               2                0.308189                 76   \n",
              "2               3                0.002288                 48   \n",
              "3               5                0.001897                 90   \n",
              "4               4                0.054687                 54   \n",
              "\n",
              "                                              params  split0_test_score  \\\n",
              "0  {'loss': 'huber', 'max_depth': 3, 'min_samples...         -10.558287   \n",
              "1  {'loss': 'ls', 'max_depth': 2, 'min_samples_sp...         -11.740731   \n",
              "2  {'loss': 'lad', 'max_depth': 3, 'min_samples_s...          -9.253265   \n",
              "3  {'loss': 'ls', 'max_depth': 5, 'min_samples_sp...         -17.641456   \n",
              "4  {'loss': 'ls', 'max_depth': 4, 'min_samples_sp...         -11.734966   \n",
              "\n",
              "   split1_test_score  split2_test_score  mean_test_score  std_test_score  \\\n",
              "0         -16.394026         -13.460963       -13.471092        2.382441   \n",
              "1         -18.260354         -14.708708       -14.903264        2.665178   \n",
              "2         -17.728812         -18.140297       -15.040791        4.095845   \n",
              "3         -26.860518          -9.886990       -18.129655        6.938007   \n",
              "4         -26.734377         -11.014968       -16.494771        7.246459   \n",
              "\n",
              "   rank_test_score  \n",
              "0               14  \n",
              "1               19  \n",
              "2               20  \n",
              "3               26  \n",
              "4               23  "
            ],
            "text/html": [
              "\n",
              "  <div id=\"df-1044a274-8917-4266-b204-01704706ba37\">\n",
              "    <div class=\"colab-df-container\">\n",
              "      <div>\n",
              "<style scoped>\n",
              "    .dataframe tbody tr th:only-of-type {\n",
              "        vertical-align: middle;\n",
              "    }\n",
              "\n",
              "    .dataframe tbody tr th {\n",
              "        vertical-align: top;\n",
              "    }\n",
              "\n",
              "    .dataframe thead th {\n",
              "        text-align: right;\n",
              "    }\n",
              "</style>\n",
              "<table border=\"1\" class=\"dataframe\">\n",
              "  <thead>\n",
              "    <tr style=\"text-align: right;\">\n",
              "      <th></th>\n",
              "      <th>mean_fit_time</th>\n",
              "      <th>std_fit_time</th>\n",
              "      <th>mean_score_time</th>\n",
              "      <th>std_score_time</th>\n",
              "      <th>param_loss</th>\n",
              "      <th>param_max_depth</th>\n",
              "      <th>param_min_samples_split</th>\n",
              "      <th>param_n_estimators</th>\n",
              "      <th>params</th>\n",
              "      <th>split0_test_score</th>\n",
              "      <th>split1_test_score</th>\n",
              "      <th>split2_test_score</th>\n",
              "      <th>mean_test_score</th>\n",
              "      <th>std_test_score</th>\n",
              "      <th>rank_test_score</th>\n",
              "    </tr>\n",
              "  </thead>\n",
              "  <tbody>\n",
              "    <tr>\n",
              "      <th>0</th>\n",
              "      <td>0.346457</td>\n",
              "      <td>0.064629</td>\n",
              "      <td>0.002877</td>\n",
              "      <td>0.000626</td>\n",
              "      <td>huber</td>\n",
              "      <td>3</td>\n",
              "      <td>0.044228</td>\n",
              "      <td>80</td>\n",
              "      <td>{'loss': 'huber', 'max_depth': 3, 'min_samples...</td>\n",
              "      <td>-10.558287</td>\n",
              "      <td>-16.394026</td>\n",
              "      <td>-13.460963</td>\n",
              "      <td>-13.471092</td>\n",
              "      <td>2.382441</td>\n",
              "      <td>14</td>\n",
              "    </tr>\n",
              "    <tr>\n",
              "      <th>1</th>\n",
              "      <td>0.072526</td>\n",
              "      <td>0.012192</td>\n",
              "      <td>0.004331</td>\n",
              "      <td>0.001889</td>\n",
              "      <td>ls</td>\n",
              "      <td>2</td>\n",
              "      <td>0.308189</td>\n",
              "      <td>76</td>\n",
              "      <td>{'loss': 'ls', 'max_depth': 2, 'min_samples_sp...</td>\n",
              "      <td>-11.740731</td>\n",
              "      <td>-18.260354</td>\n",
              "      <td>-14.708708</td>\n",
              "      <td>-14.903264</td>\n",
              "      <td>2.665178</td>\n",
              "      <td>19</td>\n",
              "    </tr>\n",
              "    <tr>\n",
              "      <th>2</th>\n",
              "      <td>0.210915</td>\n",
              "      <td>0.017882</td>\n",
              "      <td>0.003122</td>\n",
              "      <td>0.000260</td>\n",
              "      <td>lad</td>\n",
              "      <td>3</td>\n",
              "      <td>0.002288</td>\n",
              "      <td>48</td>\n",
              "      <td>{'loss': 'lad', 'max_depth': 3, 'min_samples_s...</td>\n",
              "      <td>-9.253265</td>\n",
              "      <td>-17.728812</td>\n",
              "      <td>-18.140297</td>\n",
              "      <td>-15.040791</td>\n",
              "      <td>4.095845</td>\n",
              "      <td>20</td>\n",
              "    </tr>\n",
              "    <tr>\n",
              "      <th>3</th>\n",
              "      <td>0.190761</td>\n",
              "      <td>0.053897</td>\n",
              "      <td>0.003343</td>\n",
              "      <td>0.000059</td>\n",
              "      <td>ls</td>\n",
              "      <td>5</td>\n",
              "      <td>0.001897</td>\n",
              "      <td>90</td>\n",
              "      <td>{'loss': 'ls', 'max_depth': 5, 'min_samples_sp...</td>\n",
              "      <td>-17.641456</td>\n",
              "      <td>-26.860518</td>\n",
              "      <td>-9.886990</td>\n",
              "      <td>-18.129655</td>\n",
              "      <td>6.938007</td>\n",
              "      <td>26</td>\n",
              "    </tr>\n",
              "    <tr>\n",
              "      <th>4</th>\n",
              "      <td>0.075521</td>\n",
              "      <td>0.007050</td>\n",
              "      <td>0.003012</td>\n",
              "      <td>0.000707</td>\n",
              "      <td>ls</td>\n",
              "      <td>4</td>\n",
              "      <td>0.054687</td>\n",
              "      <td>54</td>\n",
              "      <td>{'loss': 'ls', 'max_depth': 4, 'min_samples_sp...</td>\n",
              "      <td>-11.734966</td>\n",
              "      <td>-26.734377</td>\n",
              "      <td>-11.014968</td>\n",
              "      <td>-16.494771</td>\n",
              "      <td>7.246459</td>\n",
              "      <td>23</td>\n",
              "    </tr>\n",
              "  </tbody>\n",
              "</table>\n",
              "</div>\n",
              "      <button class=\"colab-df-convert\" onclick=\"convertToInteractive('df-1044a274-8917-4266-b204-01704706ba37')\"\n",
              "              title=\"Convert this dataframe to an interactive table.\"\n",
              "              style=\"display:none;\">\n",
              "        \n",
              "  <svg xmlns=\"http://www.w3.org/2000/svg\" height=\"24px\"viewBox=\"0 0 24 24\"\n",
              "       width=\"24px\">\n",
              "    <path d=\"M0 0h24v24H0V0z\" fill=\"none\"/>\n",
              "    <path d=\"M18.56 5.44l.94 2.06.94-2.06 2.06-.94-2.06-.94-.94-2.06-.94 2.06-2.06.94zm-11 1L8.5 8.5l.94-2.06 2.06-.94-2.06-.94L8.5 2.5l-.94 2.06-2.06.94zm10 10l.94 2.06.94-2.06 2.06-.94-2.06-.94-.94-2.06-.94 2.06-2.06.94z\"/><path d=\"M17.41 7.96l-1.37-1.37c-.4-.4-.92-.59-1.43-.59-.52 0-1.04.2-1.43.59L10.3 9.45l-7.72 7.72c-.78.78-.78 2.05 0 2.83L4 21.41c.39.39.9.59 1.41.59.51 0 1.02-.2 1.41-.59l7.78-7.78 2.81-2.81c.8-.78.8-2.07 0-2.86zM5.41 20L4 18.59l7.72-7.72 1.47 1.35L5.41 20z\"/>\n",
              "  </svg>\n",
              "      </button>\n",
              "      \n",
              "  <style>\n",
              "    .colab-df-container {\n",
              "      display:flex;\n",
              "      flex-wrap:wrap;\n",
              "      gap: 12px;\n",
              "    }\n",
              "\n",
              "    .colab-df-convert {\n",
              "      background-color: #E8F0FE;\n",
              "      border: none;\n",
              "      border-radius: 50%;\n",
              "      cursor: pointer;\n",
              "      display: none;\n",
              "      fill: #1967D2;\n",
              "      height: 32px;\n",
              "      padding: 0 0 0 0;\n",
              "      width: 32px;\n",
              "    }\n",
              "\n",
              "    .colab-df-convert:hover {\n",
              "      background-color: #E2EBFA;\n",
              "      box-shadow: 0px 1px 2px rgba(60, 64, 67, 0.3), 0px 1px 3px 1px rgba(60, 64, 67, 0.15);\n",
              "      fill: #174EA6;\n",
              "    }\n",
              "\n",
              "    [theme=dark] .colab-df-convert {\n",
              "      background-color: #3B4455;\n",
              "      fill: #D2E3FC;\n",
              "    }\n",
              "\n",
              "    [theme=dark] .colab-df-convert:hover {\n",
              "      background-color: #434B5C;\n",
              "      box-shadow: 0px 1px 3px 1px rgba(0, 0, 0, 0.15);\n",
              "      filter: drop-shadow(0px 1px 2px rgba(0, 0, 0, 0.3));\n",
              "      fill: #FFFFFF;\n",
              "    }\n",
              "  </style>\n",
              "\n",
              "      <script>\n",
              "        const buttonEl =\n",
              "          document.querySelector('#df-1044a274-8917-4266-b204-01704706ba37 button.colab-df-convert');\n",
              "        buttonEl.style.display =\n",
              "          google.colab.kernel.accessAllowed ? 'block' : 'none';\n",
              "\n",
              "        async function convertToInteractive(key) {\n",
              "          const element = document.querySelector('#df-1044a274-8917-4266-b204-01704706ba37');\n",
              "          const dataTable =\n",
              "            await google.colab.kernel.invokeFunction('convertToInteractive',\n",
              "                                                     [key], {});\n",
              "          if (!dataTable) return;\n",
              "\n",
              "          const docLinkHtml = 'Like what you see? Visit the ' +\n",
              "            '<a target=\"_blank\" href=https://colab.research.google.com/notebooks/data_table.ipynb>data table notebook</a>'\n",
              "            + ' to learn more about interactive tables.';\n",
              "          element.innerHTML = '';\n",
              "          dataTable['output_type'] = 'display_data';\n",
              "          await google.colab.output.renderOutput(dataTable, element);\n",
              "          const docLink = document.createElement('div');\n",
              "          docLink.innerHTML = docLinkHtml;\n",
              "          element.appendChild(docLink);\n",
              "        }\n",
              "      </script>\n",
              "    </div>\n",
              "  </div>\n",
              "  "
            ]
          },
          "metadata": {},
          "execution_count": 64
        }
      ]
    },
    {
      "cell_type": "code",
      "source": [
        "# we can order the different models based on their performance\n",
        "results.sort_values(by='mean_test_score', ascending=False, inplace=True)\n",
        "\n",
        "results.reset_index(drop=True, inplace=True)\n",
        "\n",
        "# plot model performance and error\n",
        "\n",
        "results['mean_test_score'].plot(yerr=[results['std_test_score'], results['std_test_score']], subplots=True)\n",
        "\n",
        "plt.ylabel('Mean test score')\n",
        "plt.xlabel('Hyperparameter combinations')"
      ],
      "metadata": {
        "id": "AxDIN9NfDANZ",
        "colab": {
          "base_uri": "https://localhost:8080/",
          "height": 296
        },
        "outputId": "8a97e3fd-f5f7-4f7f-a281-a4773ea6c586"
      },
      "execution_count": 65,
      "outputs": [
        {
          "output_type": "execute_result",
          "data": {
            "text/plain": [
              "Text(0.5, 0, 'Hyperparameter combinations')"
            ]
          },
          "metadata": {},
          "execution_count": 65
        },
        {
          "output_type": "display_data",
          "data": {
            "text/plain": [
              "<Figure size 432x288 with 1 Axes>"
            ],
            "image/png": "[encoded data removed]"
          },
          "metadata": {
            "needs_background": "light"
          }
        }
      ]
    },
    {
      "cell_type": "code",
      "source": [
        "X_train_preds = search.predict(X_train)\n",
        "X_test_preds = search.predict(X_test)\n",
        "\n",
        "print('Train RMSE: ', mean_squared_error(y_train, X_train_preds)**(1/2))\n",
        "print('Test RMSE: ', mean_squared_error(y_test, X_test_preds)**(1/2))"
      ],
      "metadata": {
        "id": "F8FPZQMEDAQc",
        "colab": {
          "base_uri": "https://localhost:8080/"
        },
        "outputId": "74316b9e-2486-4cb8-e542-755b88e1ec2d"
      },
      "execution_count": 66,
      "outputs": [
        {
          "output_type": "stream",
          "name": "stdout",
          "text": [
            "Train RMSE:  1.139724546394376\n",
            "Test RMSE:  4.009622818665551\n"
          ]
        }
      ]
    },
    {
      "cell_type": "code",
      "source": [],
      "metadata": {
        "id": "q6nY0WMSDATI"
      },
      "execution_count": 66,
      "outputs": []
    },
    {
      "cell_type": "code",
      "source": [],
      "metadata": {
        "id": "SJTbSPtBDAVs"
      },
      "execution_count": 66,
      "outputs": []
    },
    {
      "cell_type": "code",
      "source": [],
      "metadata": {
        "id": "DzZ9gwBcDAYT"
      },
      "execution_count": 66,
      "outputs": []
    },
    {
      "cell_type": "markdown",
      "source": [
        "Nota para guardar modelos revisar la siguiente [liga](https://scikit-learn.org/stable/model_persistence.html) (NO USAR PICKLs)"
      ],
      "metadata": {
        "id": "Jq-ywOVvwX2y"
      }
    },
    {
      "cell_type": "markdown",
      "source": [
        "## Ejercicios"
      ],
      "metadata": {
        "id": "KOJwFzmSK892"
      }
    },
    {
      "cell_type": "markdown",
      "source": [
        "Considera los datos de `Heart_Attack.csv` y el siguiente preprocesamiento:"
      ],
      "metadata": {
        "id": "emjf27FeLJDS"
      }
    },
    {
      "cell_type": "code",
      "source": [
        "# Cargamos los datos\n",
        "breast_cancer_X, breast_cancer_y = load_breast_cancer(return_X_y=True)\n",
        "\n",
        "X = pd.DataFrame(breast_cancer_X)\n",
        "y = pd.Series(breast_cancer_y).map({0:1, 1:0})\n",
        "\n",
        "# Partimos en train y test"
      ],
      "metadata": {
        "id": "AocLUscPK8Oc"
      },
      "execution_count": 67,
      "outputs": []
    },
    {
      "cell_type": "code",
      "source": [
        "X_train, X_test_val, y_train, y_test_val = train_test_split(X, y, \n",
        "                                                    test_size=0.3, \n",
        "                                                    random_state=0)"
      ],
      "metadata": {
        "id": "mqT7iTDcqQJO"
      },
      "execution_count": 68,
      "outputs": []
    },
    {
      "cell_type": "code",
      "source": [
        "X_val, X_test, y_val, y_test = train_test_split(X_test_val, y_test_val,\n",
        "                                                test_size=0.3,\n",
        "                                                random_state=0)"
      ],
      "metadata": {
        "id": "MaYq75mPqYe6"
      },
      "execution_count": 69,
      "outputs": []
    },
    {
      "cell_type": "markdown",
      "source": [
        "La idea es encontrar el mejor modelo y por cada modelo tunear sus hiperparametros, antes de empezar los ejercicios parte los datos en train y test, entrena todos los modelos con train y test usalo al final para evaluarlos todos"
      ],
      "metadata": {
        "id": "53jA7ppRHn0X"
      }
    },
    {
      "cell_type": "markdown",
      "source": [
        "### Ejercicio 01"
      ],
      "metadata": {
        "id": "HaIqTcV4LrMy"
      }
    },
    {
      "cell_type": "markdown",
      "source": [
        "Ajusta una __regresión logística__ y tunea sus hiperparametros con `.GridSearchCV/RandomizedSearchCV`"
      ],
      "metadata": {
        "id": "9Qf_hxtsLtfD"
      }
    },
    {
      "cell_type": "code",
      "source": [
        "# Respuesta\n",
        "lr=LogisticRegression(solver='liblinear',random_state=123,max_iter=10000)"
      ],
      "metadata": {
        "id": "YatckI6jr4Br"
      },
      "execution_count": 70,
      "outputs": []
    },
    {
      "cell_type": "code",
      "source": [
        "param_grid=dict(penalty = ('l1','l2','elasticnet','none'),\n",
        "                C=stats.uniform(6,0.01))"
      ],
      "metadata": {
        "id": "2OdEY4Lgozov"
      },
      "execution_count": 84,
      "outputs": []
    },
    {
      "cell_type": "code",
      "source": [
        "rand_lr_search= RandomizedSearchCV(lr,\n",
        "                                   param_grid,\n",
        "                                   scoring='roc_auc',\n",
        "                                   cv=3,\n",
        "                                   n_iter=20,\n",
        "                                   random_state=10,\n",
        "                                   n_jobs=-1,\n",
        "                                   refit=True)    "
      ],
      "metadata": {
        "id": "WQRg0dBppPCh"
      },
      "execution_count": 85,
      "outputs": []
    },
    {
      "cell_type": "code",
      "source": [
        "%%time\n",
        "rand_lr_search.fit(X_train,y_train)"
      ],
      "metadata": {
        "colab": {
          "base_uri": "https://localhost:8080/"
        },
        "id": "cCyUvRe-qDcR",
        "outputId": "3a15921d-1429-451a-fa4c-7c4cab560d43"
      },
      "execution_count": 86,
      "outputs": [
        {
          "output_type": "stream",
          "name": "stdout",
          "text": [
            "CPU times: user 198 ms, sys: 8.38 ms, total: 206 ms\n",
            "Wall time: 2.8 s\n"
          ]
        },
        {
          "output_type": "stream",
          "name": "stderr",
          "text": [
            "/usr/local/lib/python3.7/dist-packages/sklearn/model_selection/_validation.py:372: FitFailedWarning: \n",
            "21 fits failed out of a total of 60.\n",
            "The score on these train-test partitions for these parameters will be set to nan.\n",
            "If these failures are not expected, you can try to debug them by setting error_score='raise'.\n",
            "\n",
            "Below are more details about the failures:\n",
            "--------------------------------------------------------------------------------\n",
            "18 fits failed with the following error:\n",
            "Traceback (most recent call last):\n",
            "  File \"/usr/local/lib/python3.7/dist-packages/sklearn/model_selection/_validation.py\", line 680, in _fit_and_score\n",
            "    estimator.fit(X_train, y_train, **fit_params)\n",
            "  File \"/usr/local/lib/python3.7/dist-packages/sklearn/linear_model/_logistic.py\", line 1461, in fit\n",
            "    solver = _check_solver(self.solver, self.penalty, self.dual)\n",
            "  File \"/usr/local/lib/python3.7/dist-packages/sklearn/linear_model/_logistic.py\", line 459, in _check_solver\n",
            "    solver\n",
            "ValueError: Only 'saga' solver supports elasticnet penalty, got solver=liblinear.\n",
            "\n",
            "--------------------------------------------------------------------------------\n",
            "3 fits failed with the following error:\n",
            "Traceback (most recent call last):\n",
            "  File \"/usr/local/lib/python3.7/dist-packages/sklearn/model_selection/_validation.py\", line 680, in _fit_and_score\n",
            "    estimator.fit(X_train, y_train, **fit_params)\n",
            "  File \"/usr/local/lib/python3.7/dist-packages/sklearn/linear_model/_logistic.py\", line 1461, in fit\n",
            "    solver = _check_solver(self.solver, self.penalty, self.dual)\n",
            "  File \"/usr/local/lib/python3.7/dist-packages/sklearn/linear_model/_logistic.py\", line 464, in _check_solver\n",
            "    raise ValueError(\"penalty='none' is not supported for the liblinear solver\")\n",
            "ValueError: penalty='none' is not supported for the liblinear solver\n",
            "\n",
            "  warnings.warn(some_fits_failed_message, FitFailedWarning)\n",
            "/usr/local/lib/python3.7/dist-packages/sklearn/model_selection/_search.py:972: UserWarning: One or more of the test scores are non-finite: [0.98775674 0.98887632 0.98887468 0.98895664 0.98815835        nan\n",
            " 0.98783542 0.98775674        nan        nan 0.98775674 0.98911892\n",
            " 0.98903696        nan 0.98928121        nan 0.98775674 0.98895173\n",
            "        nan        nan]\n",
            "  category=UserWarning,\n"
          ]
        },
        {
          "output_type": "execute_result",
          "data": {
            "text/plain": [
              "RandomizedSearchCV(cv=3,\n",
              "                   estimator=LogisticRegression(max_iter=10000,\n",
              "                                                random_state=123,\n",
              "                                                solver='liblinear'),\n",
              "                   n_iter=20, n_jobs=-1,\n",
              "                   param_distributions={'C': <scipy.stats._distn_infrastructure.rv_frozen object at 0x7fc03bdd32d0>,\n",
              "                                        'penalty': ('l1', 'l2', 'elasticnet',\n",
              "                                                    'none')},\n",
              "                   random_state=10, scoring='roc_auc')"
            ]
          },
          "metadata": {},
          "execution_count": 86
        }
      ]
    },
    {
      "cell_type": "code",
      "source": [
        "rand_lr_search.best_params_"
      ],
      "metadata": {
        "colab": {
          "base_uri": "https://localhost:8080/"
        },
        "id": "Rr2pqObAqg4z",
        "outputId": "4ce7f662-b4e5-4bcd-d4ad-56321c8f6921"
      },
      "execution_count": 87,
      "outputs": [
        {
          "output_type": "execute_result",
          "data": {
            "text/plain": [
              "{'C': 6.0014217004760155, 'penalty': 'l2'}"
            ]
          },
          "metadata": {},
          "execution_count": 87
        }
      ]
    },
    {
      "cell_type": "code",
      "source": [
        "y_pred=rand_lr_search.predict(X_val)"
      ],
      "metadata": {
        "id": "BjoTaTMpquNj"
      },
      "execution_count": 88,
      "outputs": []
    },
    {
      "cell_type": "code",
      "source": [
        "print(classification_report(y_val,y_pred))\n",
        "print('-'*30)\n",
        "print(roc_auc_score(y_val,y_pred))"
      ],
      "metadata": {
        "colab": {
          "base_uri": "https://localhost:8080/"
        },
        "id": "CiWrzjTeq8EX",
        "outputId": "0743da7d-68d7-4683-bd5d-cf185b3952ec"
      },
      "execution_count": 89,
      "outputs": [
        {
          "output_type": "stream",
          "name": "stdout",
          "text": [
            "              precision    recall  f1-score   support\n",
            "\n",
            "           0       0.99      0.95      0.97        78\n",
            "           1       0.91      0.98      0.94        41\n",
            "\n",
            "    accuracy                           0.96       119\n",
            "   macro avg       0.95      0.96      0.95       119\n",
            "weighted avg       0.96      0.96      0.96       119\n",
            "\n",
            "------------------------------\n",
            "0.9621638524077548\n"
          ]
        }
      ]
    },
    {
      "cell_type": "markdown",
      "source": [
        "### Ejercicio 02"
      ],
      "metadata": {
        "id": "YvwYjsNCMCBZ"
      }
    },
    {
      "cell_type": "markdown",
      "source": [
        "Ajusta un __random forest__ y tunea sus hiperparametros con `.GridSearchCV/RandomizedSearchCV`"
      ],
      "metadata": {
        "id": "t_8lGXpTMHk_"
      }
    },
    {
      "cell_type": "code",
      "source": [
        "# Respuesta\n",
        "from sklearn.ensemble import RandomForestClassifier\n",
        "rfc = RandomForestClassifier(random_state=123)\n",
        "\n",
        "param_grid=dict(n_estimators=(list(range(1,101,5))),\n",
        "          criterion=['gini', 'entropy', 'log_loss'],\n",
        "          max_depth=list(range(1,11))\n",
        ")\n",
        "\n"
      ],
      "metadata": {
        "id": "D0bJUdwOLoyd"
      },
      "execution_count": 91,
      "outputs": []
    },
    {
      "cell_type": "code",
      "source": [
        "rand_rfc_search= RandomizedSearchCV(rfc,\n",
        "                                   param_grid,\n",
        "                                   scoring='roc_auc',\n",
        "                                   cv=3,\n",
        "                                   n_iter=20,\n",
        "                                   random_state=10,\n",
        "                                   n_jobs=-1,\n",
        "                                   refit=True)    "
      ],
      "metadata": {
        "id": "Xh7OrrldJm21"
      },
      "execution_count": 92,
      "outputs": []
    },
    {
      "cell_type": "code",
      "source": [
        "%%time\n",
        "rand_rfc_search.fit(X_train,y_train)"
      ],
      "metadata": {
        "colab": {
          "base_uri": "https://localhost:8080/"
        },
        "id": "M4-nwuAQJzWC",
        "outputId": "33f40bb0-d549-452d-e985-78409b4e0036"
      },
      "execution_count": 93,
      "outputs": [
        {
          "output_type": "stream",
          "name": "stdout",
          "text": [
            "CPU times: user 477 ms, sys: 35.3 ms, total: 513 ms\n",
            "Wall time: 7.19 s\n"
          ]
        },
        {
          "output_type": "stream",
          "name": "stderr",
          "text": [
            "/usr/local/lib/python3.7/dist-packages/sklearn/model_selection/_validation.py:372: FitFailedWarning: \n",
            "24 fits failed out of a total of 60.\n",
            "The score on these train-test partitions for these parameters will be set to nan.\n",
            "If these failures are not expected, you can try to debug them by setting error_score='raise'.\n",
            "\n",
            "Below are more details about the failures:\n",
            "--------------------------------------------------------------------------------\n",
            "24 fits failed with the following error:\n",
            "Traceback (most recent call last):\n",
            "  File \"/usr/local/lib/python3.7/dist-packages/sklearn/model_selection/_validation.py\", line 680, in _fit_and_score\n",
            "    estimator.fit(X_train, y_train, **fit_params)\n",
            "  File \"/usr/local/lib/python3.7/dist-packages/sklearn/ensemble/_forest.py\", line 467, in fit\n",
            "    for i, t in enumerate(trees)\n",
            "  File \"/usr/local/lib/python3.7/dist-packages/joblib/parallel.py\", line 1085, in __call__\n",
            "    if self.dispatch_one_batch(iterator):\n",
            "  File \"/usr/local/lib/python3.7/dist-packages/joblib/parallel.py\", line 901, in dispatch_one_batch\n",
            "    self._dispatch(tasks)\n",
            "  File \"/usr/local/lib/python3.7/dist-packages/joblib/parallel.py\", line 819, in _dispatch\n",
            "    job = self._backend.apply_async(batch, callback=cb)\n",
            "  File \"/usr/local/lib/python3.7/dist-packages/joblib/_parallel_backends.py\", line 208, in apply_async\n",
            "    result = ImmediateResult(func)\n",
            "  File \"/usr/local/lib/python3.7/dist-packages/joblib/_parallel_backends.py\", line 597, in __init__\n",
            "    self.results = batch()\n",
            "  File \"/usr/local/lib/python3.7/dist-packages/joblib/parallel.py\", line 289, in __call__\n",
            "    for func, args, kwargs in self.items]\n",
            "  File \"/usr/local/lib/python3.7/dist-packages/joblib/parallel.py\", line 289, in <listcomp>\n",
            "    for func, args, kwargs in self.items]\n",
            "  File \"/usr/local/lib/python3.7/dist-packages/sklearn/utils/fixes.py\", line 216, in __call__\n",
            "    return self.function(*args, **kwargs)\n",
            "  File \"/usr/local/lib/python3.7/dist-packages/sklearn/ensemble/_forest.py\", line 185, in _parallel_build_trees\n",
            "    tree.fit(X, y, sample_weight=curr_sample_weight, check_input=False)\n",
            "  File \"/usr/local/lib/python3.7/dist-packages/sklearn/tree/_classes.py\", line 942, in fit\n",
            "    X_idx_sorted=X_idx_sorted,\n",
            "  File \"/usr/local/lib/python3.7/dist-packages/sklearn/tree/_classes.py\", line 352, in fit\n",
            "    criterion = CRITERIA_CLF[self.criterion](\n",
            "KeyError: 'log_loss'\n",
            "\n",
            "  warnings.warn(some_fits_failed_message, FitFailedWarning)\n",
            "/usr/local/lib/python3.7/dist-packages/sklearn/model_selection/_search.py:972: UserWarning: One or more of the test scores are non-finite: [0.98695025 0.98432506        nan        nan 0.9874707         nan\n",
            "        nan 0.98888288 0.98464962 0.98042619        nan        nan\n",
            " 0.98746906 0.98532907        nan 0.99020982 0.98872224 0.98675928\n",
            " 0.98464962        nan]\n",
            "  category=UserWarning,\n"
          ]
        },
        {
          "output_type": "execute_result",
          "data": {
            "text/plain": [
              "RandomizedSearchCV(cv=3, estimator=RandomForestClassifier(random_state=123),\n",
              "                   n_iter=20, n_jobs=-1,\n",
              "                   param_distributions={'criterion': ['gini', 'entropy',\n",
              "                                                      'log_loss'],\n",
              "                                        'max_depth': [1, 2, 3, 4, 5, 6, 7, 8, 9,\n",
              "                                                      10],\n",
              "                                        'n_estimators': [1, 6, 11, 16, 21, 26,\n",
              "                                                         31, 36, 41, 46, 51, 56,\n",
              "                                                         61, 66, 71, 76, 81, 86,\n",
              "                                                         91, 96]},\n",
              "                   random_state=10, scoring='roc_auc')"
            ]
          },
          "metadata": {},
          "execution_count": 93
        }
      ]
    },
    {
      "cell_type": "code",
      "source": [
        "rand_rfc_search.best_params_"
      ],
      "metadata": {
        "colab": {
          "base_uri": "https://localhost:8080/"
        },
        "id": "90iNN3xGJ7EU",
        "outputId": "515ef06e-df5b-45d8-b327-879bea719f39"
      },
      "execution_count": 94,
      "outputs": [
        {
          "output_type": "execute_result",
          "data": {
            "text/plain": [
              "{'n_estimators': 61, 'max_depth': 5, 'criterion': 'entropy'}"
            ]
          },
          "metadata": {},
          "execution_count": 94
        }
      ]
    },
    {
      "cell_type": "code",
      "source": [
        "y_pred=rand_rfc_search.predict(X_val)"
      ],
      "metadata": {
        "id": "sKCIUA6FJ8qZ"
      },
      "execution_count": 95,
      "outputs": []
    },
    {
      "cell_type": "code",
      "source": [
        "print(classification_report(y_val,y_pred))\n",
        "print('-'*30)\n",
        "print(roc_auc_score(y_val,y_pred))"
      ],
      "metadata": {
        "colab": {
          "base_uri": "https://localhost:8080/"
        },
        "id": "av8JGZbCKFRR",
        "outputId": "7643118c-43be-4de1-fd58-1c8c68ccd576"
      },
      "execution_count": 96,
      "outputs": [
        {
          "output_type": "stream",
          "name": "stdout",
          "text": [
            "              precision    recall  f1-score   support\n",
            "\n",
            "           0       0.96      0.95      0.95        78\n",
            "           1       0.90      0.93      0.92        41\n",
            "\n",
            "    accuracy                           0.94       119\n",
            "   macro avg       0.93      0.94      0.94       119\n",
            "weighted avg       0.94      0.94      0.94       119\n",
            "\n",
            "------------------------------\n",
            "0.9377736085053158\n"
          ]
        }
      ]
    },
    {
      "cell_type": "code",
      "source": [
        "results = (pd.DataFrame(rand_rfc_search.cv_results_)\n",
        "             .sort_values(by='mean_test_score', ascending=False)\n",
        "             .reset_index(drop=True))\n",
        "(results\n",
        " .loc[:,['param_max_depth',  \n",
        "         'param_n_estimators',\n",
        "         'mean_test_score', \n",
        "         'std_test_score',]]\n",
        " .head(3))"
      ],
      "metadata": {
        "colab": {
          "base_uri": "https://localhost:8080/",
          "height": 143
        },
        "id": "9RY0OeQ8Ks_f",
        "outputId": "12459409-db35-4515-f715-99d854ae5ddd"
      },
      "execution_count": 99,
      "outputs": [
        {
          "output_type": "execute_result",
          "data": {
            "text/plain": [
              "  param_max_depth param_n_estimators  mean_test_score  std_test_score\n",
              "0               5                 61         0.990210        0.003927\n",
              "1               5                 96         0.988883        0.004805\n",
              "2               6                 86         0.988722        0.005274"
            ],
            "text/html": [
              "\n",
              "  <div id=\"df-eac7766a-7da2-4040-828b-ffb6de0fb743\">\n",
              "    <div class=\"colab-df-container\">\n",
              "      <div>\n",
              "<style scoped>\n",
              "    .dataframe tbody tr th:only-of-type {\n",
              "        vertical-align: middle;\n",
              "    }\n",
              "\n",
              "    .dataframe tbody tr th {\n",
              "        vertical-align: top;\n",
              "    }\n",
              "\n",
              "    .dataframe thead th {\n",
              "        text-align: right;\n",
              "    }\n",
              "</style>\n",
              "<table border=\"1\" class=\"dataframe\">\n",
              "  <thead>\n",
              "    <tr style=\"text-align: right;\">\n",
              "      <th></th>\n",
              "      <th>param_max_depth</th>\n",
              "      <th>param_n_estimators</th>\n",
              "      <th>mean_test_score</th>\n",
              "      <th>std_test_score</th>\n",
              "    </tr>\n",
              "  </thead>\n",
              "  <tbody>\n",
              "    <tr>\n",
              "      <th>0</th>\n",
              "      <td>5</td>\n",
              "      <td>61</td>\n",
              "      <td>0.990210</td>\n",
              "      <td>0.003927</td>\n",
              "    </tr>\n",
              "    <tr>\n",
              "      <th>1</th>\n",
              "      <td>5</td>\n",
              "      <td>96</td>\n",
              "      <td>0.988883</td>\n",
              "      <td>0.004805</td>\n",
              "    </tr>\n",
              "    <tr>\n",
              "      <th>2</th>\n",
              "      <td>6</td>\n",
              "      <td>86</td>\n",
              "      <td>0.988722</td>\n",
              "      <td>0.005274</td>\n",
              "    </tr>\n",
              "  </tbody>\n",
              "</table>\n",
              "</div>\n",
              "      <button class=\"colab-df-convert\" onclick=\"convertToInteractive('df-eac7766a-7da2-4040-828b-ffb6de0fb743')\"\n",
              "              title=\"Convert this dataframe to an interactive table.\"\n",
              "              style=\"display:none;\">\n",
              "        \n",
              "  <svg xmlns=\"http://www.w3.org/2000/svg\" height=\"24px\"viewBox=\"0 0 24 24\"\n",
              "       width=\"24px\">\n",
              "    <path d=\"M0 0h24v24H0V0z\" fill=\"none\"/>\n",
              "    <path d=\"M18.56 5.44l.94 2.06.94-2.06 2.06-.94-2.06-.94-.94-2.06-.94 2.06-2.06.94zm-11 1L8.5 8.5l.94-2.06 2.06-.94-2.06-.94L8.5 2.5l-.94 2.06-2.06.94zm10 10l.94 2.06.94-2.06 2.06-.94-2.06-.94-.94-2.06-.94 2.06-2.06.94z\"/><path d=\"M17.41 7.96l-1.37-1.37c-.4-.4-.92-.59-1.43-.59-.52 0-1.04.2-1.43.59L10.3 9.45l-7.72 7.72c-.78.78-.78 2.05 0 2.83L4 21.41c.39.39.9.59 1.41.59.51 0 1.02-.2 1.41-.59l7.78-7.78 2.81-2.81c.8-.78.8-2.07 0-2.86zM5.41 20L4 18.59l7.72-7.72 1.47 1.35L5.41 20z\"/>\n",
              "  </svg>\n",
              "      </button>\n",
              "      \n",
              "  <style>\n",
              "    .colab-df-container {\n",
              "      display:flex;\n",
              "      flex-wrap:wrap;\n",
              "      gap: 12px;\n",
              "    }\n",
              "\n",
              "    .colab-df-convert {\n",
              "      background-color: #E8F0FE;\n",
              "      border: none;\n",
              "      border-radius: 50%;\n",
              "      cursor: pointer;\n",
              "      display: none;\n",
              "      fill: #1967D2;\n",
              "      height: 32px;\n",
              "      padding: 0 0 0 0;\n",
              "      width: 32px;\n",
              "    }\n",
              "\n",
              "    .colab-df-convert:hover {\n",
              "      background-color: #E2EBFA;\n",
              "      box-shadow: 0px 1px 2px rgba(60, 64, 67, 0.3), 0px 1px 3px 1px rgba(60, 64, 67, 0.15);\n",
              "      fill: #174EA6;\n",
              "    }\n",
              "\n",
              "    [theme=dark] .colab-df-convert {\n",
              "      background-color: #3B4455;\n",
              "      fill: #D2E3FC;\n",
              "    }\n",
              "\n",
              "    [theme=dark] .colab-df-convert:hover {\n",
              "      background-color: #434B5C;\n",
              "      box-shadow: 0px 1px 3px 1px rgba(0, 0, 0, 0.15);\n",
              "      filter: drop-shadow(0px 1px 2px rgba(0, 0, 0, 0.3));\n",
              "      fill: #FFFFFF;\n",
              "    }\n",
              "  </style>\n",
              "\n",
              "      <script>\n",
              "        const buttonEl =\n",
              "          document.querySelector('#df-eac7766a-7da2-4040-828b-ffb6de0fb743 button.colab-df-convert');\n",
              "        buttonEl.style.display =\n",
              "          google.colab.kernel.accessAllowed ? 'block' : 'none';\n",
              "\n",
              "        async function convertToInteractive(key) {\n",
              "          const element = document.querySelector('#df-eac7766a-7da2-4040-828b-ffb6de0fb743');\n",
              "          const dataTable =\n",
              "            await google.colab.kernel.invokeFunction('convertToInteractive',\n",
              "                                                     [key], {});\n",
              "          if (!dataTable) return;\n",
              "\n",
              "          const docLinkHtml = 'Like what you see? Visit the ' +\n",
              "            '<a target=\"_blank\" href=https://colab.research.google.com/notebooks/data_table.ipynb>data table notebook</a>'\n",
              "            + ' to learn more about interactive tables.';\n",
              "          element.innerHTML = '';\n",
              "          dataTable['output_type'] = 'display_data';\n",
              "          await google.colab.output.renderOutput(dataTable, element);\n",
              "          const docLink = document.createElement('div');\n",
              "          docLink.innerHTML = docLinkHtml;\n",
              "          element.appendChild(docLink);\n",
              "        }\n",
              "      </script>\n",
              "    </div>\n",
              "  </div>\n",
              "  "
            ]
          },
          "metadata": {},
          "execution_count": 99
        }
      ]
    },
    {
      "cell_type": "code",
      "source": [
        "# Graficamos el performance del modelo y el error\n",
        "results['mean_test_score'].plot(yerr=[results['std_test_score'], results['std_test_score']], subplots=True)\n",
        "\n",
        "plt.ylabel('Mean test score')\n",
        "plt.xlabel('Combinaciones de hiperparametros')"
      ],
      "metadata": {
        "colab": {
          "base_uri": "https://localhost:8080/",
          "height": 331
        },
        "id": "_DhzWZ5PLJGd",
        "outputId": "c3a85e62-a0b2-4f2a-d43c-bfa816e19008"
      },
      "execution_count": 100,
      "outputs": [
        {
          "output_type": "stream",
          "name": "stderr",
          "text": [
            "/usr/local/lib/python3.7/dist-packages/matplotlib/cbook/__init__.py:959: UserWarning: Warning: converting a masked element to nan.\n",
            "  x = np.asarray(x)\n"
          ]
        },
        {
          "output_type": "execute_result",
          "data": {
            "text/plain": [
              "Text(0.5, 0, 'Combinaciones de hiperparametros')"
            ]
          },
          "metadata": {},
          "execution_count": 100
        },
        {
          "output_type": "display_data",
          "data": {
            "text/plain": [
              "<Figure size 432x288 with 1 Axes>"
            ],
            "image/png": "[encoded data removed]"
          },
          "metadata": {
            "needs_background": "light"
          }
        }
      ]
    },
    {
      "cell_type": "markdown",
      "source": [
        "### Ejercicio 03"
      ],
      "metadata": {
        "id": "ShTfC0nkMLqt"
      }
    },
    {
      "cell_type": "markdown",
      "source": [
        "Ajusta un __xgbm__ y tunea sus hiperparametros con `.GridSearchCV/RandomizedSearchCV`"
      ],
      "metadata": {
        "id": "LjoDFg64MOBi"
      }
    },
    {
      "cell_type": "code",
      "source": [
        "# Respuesta\n",
        "import xgboost as xgb\n",
        "\n",
        "xg_cl = xgb.XGBClassifier(objective='binary:logistic', \n",
        "                          n_estimators=100, \n",
        "                          seed=123,\n",
        "                          learning_rate = 0.01)\n"
      ],
      "metadata": {
        "id": "3xkoqHZxMLzr"
      },
      "execution_count": 104,
      "outputs": []
    },
    {
      "cell_type": "code",
      "source": [
        "param_grid =dict(n_estimators= (list(range(1,150,5))),\n",
        "              learning_rate=[0.01, 0.01, 0.1, 10,100],\n",
        "              max_depth= list(range(1,15)),\n",
        ")"
      ],
      "metadata": {
        "id": "kGkpcHMqNCe1"
      },
      "execution_count": 105,
      "outputs": []
    },
    {
      "cell_type": "code",
      "source": [
        "rand_xgb_search= RandomizedSearchCV(xg_cl,\n",
        "                                   param_grid,\n",
        "                                   scoring='roc_auc',\n",
        "                                   cv=3,\n",
        "                                   n_iter=20,\n",
        "                                   random_state=10,\n",
        "                                   n_jobs=-1,\n",
        "                                   refit=True)    "
      ],
      "metadata": {
        "id": "tUqJhFTxN9Rn"
      },
      "execution_count": 106,
      "outputs": []
    },
    {
      "cell_type": "code",
      "source": [
        "%%time\n",
        "rand_xgb_search.fit(X_train,y_train)"
      ],
      "metadata": {
        "colab": {
          "base_uri": "https://localhost:8080/"
        },
        "id": "d1NNToTEOS9K",
        "outputId": "365b0868-74a7-4ad8-b62d-340d13b7fdaa"
      },
      "execution_count": 107,
      "outputs": [
        {
          "output_type": "stream",
          "name": "stdout",
          "text": [
            "CPU times: user 375 ms, sys: 53.9 ms, total: 429 ms\n",
            "Wall time: 5.77 s\n"
          ]
        },
        {
          "output_type": "execute_result",
          "data": {
            "text/plain": [
              "RandomizedSearchCV(cv=3, estimator=XGBClassifier(learning_rate=0.01, seed=123),\n",
              "                   n_iter=20, n_jobs=-1,\n",
              "                   param_distributions={'learning_rate': [0.01, 0.01, 0.1, 10,\n",
              "                                                          100],\n",
              "                                        'max_depth': [1, 2, 3, 4, 5, 6, 7, 8, 9,\n",
              "                                                      10, 11, 12, 13, 14],\n",
              "                                        'n_estimators': [1, 6, 11, 16, 21, 26,\n",
              "                                                         31, 36, 41, 46, 51, 56,\n",
              "                                                         61, 66, 71, 76, 81, 86,\n",
              "                                                         91, 96, 101, 106, 111,\n",
              "                                                         116, 121, 126, 131,\n",
              "                                                         136, 141, 146]},\n",
              "                   random_state=10, scoring='roc_auc')"
            ]
          },
          "metadata": {},
          "execution_count": 107
        }
      ]
    },
    {
      "cell_type": "code",
      "source": [
        "rand_xgb_search.best_params_"
      ],
      "metadata": {
        "colab": {
          "base_uri": "https://localhost:8080/"
        },
        "id": "px31ldWLOe2V",
        "outputId": "30b74bd2-3531-4df7-f132-2e99c7c4d2ae"
      },
      "execution_count": 108,
      "outputs": [
        {
          "output_type": "execute_result",
          "data": {
            "text/plain": [
              "{'n_estimators': 121, 'max_depth': 13, 'learning_rate': 0.1}"
            ]
          },
          "metadata": {},
          "execution_count": 108
        }
      ]
    },
    {
      "cell_type": "code",
      "source": [
        "y_pred=rand_xgb_search.predict(X_val)"
      ],
      "metadata": {
        "id": "Y7mJBrMIOm1t"
      },
      "execution_count": 109,
      "outputs": []
    },
    {
      "cell_type": "code",
      "source": [
        "print(classification_report(y_val,y_pred))\n",
        "print('-'*30)\n",
        "print(roc_auc_score(y_val,y_pred))"
      ],
      "metadata": {
        "colab": {
          "base_uri": "https://localhost:8080/"
        },
        "id": "DJC3aK1UOs0n",
        "outputId": "098ee672-9590-4866-90b1-62a50644e9ce"
      },
      "execution_count": 110,
      "outputs": [
        {
          "output_type": "stream",
          "name": "stdout",
          "text": [
            "              precision    recall  f1-score   support\n",
            "\n",
            "           0       0.95      0.99      0.97        78\n",
            "           1       0.97      0.90      0.94        41\n",
            "\n",
            "    accuracy                           0.96       119\n",
            "   macro avg       0.96      0.94      0.95       119\n",
            "weighted avg       0.96      0.96      0.96       119\n",
            "\n",
            "------------------------------\n",
            "0.9448092557848655\n"
          ]
        }
      ]
    },
    {
      "cell_type": "code",
      "source": [
        "results = (pd.DataFrame(rand_xgb_search.cv_results_)\n",
        "             .sort_values(by='mean_test_score', ascending=False)\n",
        "             .reset_index(drop=True))\n",
        "(results\n",
        " .loc[:,['param_max_depth',  \n",
        "         'param_n_estimators',\n",
        "         'mean_test_score', \n",
        "         'std_test_score',]]\n",
        " .head(3))"
      ],
      "metadata": {
        "colab": {
          "base_uri": "https://localhost:8080/",
          "height": 143
        },
        "id": "fS7DSxj2OyzV",
        "outputId": "46709be3-670f-4c96-9e9b-7436486e926a"
      },
      "execution_count": 113,
      "outputs": [
        {
          "output_type": "execute_result",
          "data": {
            "text/plain": [
              "  param_max_depth param_n_estimators  mean_test_score  std_test_score\n",
              "0              13                121         0.990011        0.005849\n",
              "1               9                 86         0.989845        0.005213\n",
              "2               5                 71         0.988635        0.004922"
            ],
            "text/html": [
              "\n",
              "  <div id=\"df-89423554-2534-42a6-b981-7d0ee8b90bc2\">\n",
              "    <div class=\"colab-df-container\">\n",
              "      <div>\n",
              "<style scoped>\n",
              "    .dataframe tbody tr th:only-of-type {\n",
              "        vertical-align: middle;\n",
              "    }\n",
              "\n",
              "    .dataframe tbody tr th {\n",
              "        vertical-align: top;\n",
              "    }\n",
              "\n",
              "    .dataframe thead th {\n",
              "        text-align: right;\n",
              "    }\n",
              "</style>\n",
              "<table border=\"1\" class=\"dataframe\">\n",
              "  <thead>\n",
              "    <tr style=\"text-align: right;\">\n",
              "      <th></th>\n",
              "      <th>param_max_depth</th>\n",
              "      <th>param_n_estimators</th>\n",
              "      <th>mean_test_score</th>\n",
              "      <th>std_test_score</th>\n",
              "    </tr>\n",
              "  </thead>\n",
              "  <tbody>\n",
              "    <tr>\n",
              "      <th>0</th>\n",
              "      <td>13</td>\n",
              "      <td>121</td>\n",
              "      <td>0.990011</td>\n",
              "      <td>0.005849</td>\n",
              "    </tr>\n",
              "    <tr>\n",
              "      <th>1</th>\n",
              "      <td>9</td>\n",
              "      <td>86</td>\n",
              "      <td>0.989845</td>\n",
              "      <td>0.005213</td>\n",
              "    </tr>\n",
              "    <tr>\n",
              "      <th>2</th>\n",
              "      <td>5</td>\n",
              "      <td>71</td>\n",
              "      <td>0.988635</td>\n",
              "      <td>0.004922</td>\n",
              "    </tr>\n",
              "  </tbody>\n",
              "</table>\n",
              "</div>\n",
              "      <button class=\"colab-df-convert\" onclick=\"convertToInteractive('df-89423554-2534-42a6-b981-7d0ee8b90bc2')\"\n",
              "              title=\"Convert this dataframe to an interactive table.\"\n",
              "              style=\"display:none;\">\n",
              "        \n",
              "  <svg xmlns=\"http://www.w3.org/2000/svg\" height=\"24px\"viewBox=\"0 0 24 24\"\n",
              "       width=\"24px\">\n",
              "    <path d=\"M0 0h24v24H0V0z\" fill=\"none\"/>\n",
              "    <path d=\"M18.56 5.44l.94 2.06.94-2.06 2.06-.94-2.06-.94-.94-2.06-.94 2.06-2.06.94zm-11 1L8.5 8.5l.94-2.06 2.06-.94-2.06-.94L8.5 2.5l-.94 2.06-2.06.94zm10 10l.94 2.06.94-2.06 2.06-.94-2.06-.94-.94-2.06-.94 2.06-2.06.94z\"/><path d=\"M17.41 7.96l-1.37-1.37c-.4-.4-.92-.59-1.43-.59-.52 0-1.04.2-1.43.59L10.3 9.45l-7.72 7.72c-.78.78-.78 2.05 0 2.83L4 21.41c.39.39.9.59 1.41.59.51 0 1.02-.2 1.41-.59l7.78-7.78 2.81-2.81c.8-.78.8-2.07 0-2.86zM5.41 20L4 18.59l7.72-7.72 1.47 1.35L5.41 20z\"/>\n",
              "  </svg>\n",
              "      </button>\n",
              "      \n",
              "  <style>\n",
              "    .colab-df-container {\n",
              "      display:flex;\n",
              "      flex-wrap:wrap;\n",
              "      gap: 12px;\n",
              "    }\n",
              "\n",
              "    .colab-df-convert {\n",
              "      background-color: #E8F0FE;\n",
              "      border: none;\n",
              "      border-radius: 50%;\n",
              "      cursor: pointer;\n",
              "      display: none;\n",
              "      fill: #1967D2;\n",
              "      height: 32px;\n",
              "      padding: 0 0 0 0;\n",
              "      width: 32px;\n",
              "    }\n",
              "\n",
              "    .colab-df-convert:hover {\n",
              "      background-color: #E2EBFA;\n",
              "      box-shadow: 0px 1px 2px rgba(60, 64, 67, 0.3), 0px 1px 3px 1px rgba(60, 64, 67, 0.15);\n",
              "      fill: #174EA6;\n",
              "    }\n",
              "\n",
              "    [theme=dark] .colab-df-convert {\n",
              "      background-color: #3B4455;\n",
              "      fill: #D2E3FC;\n",
              "    }\n",
              "\n",
              "    [theme=dark] .colab-df-convert:hover {\n",
              "      background-color: #434B5C;\n",
              "      box-shadow: 0px 1px 3px 1px rgba(0, 0, 0, 0.15);\n",
              "      filter: drop-shadow(0px 1px 2px rgba(0, 0, 0, 0.3));\n",
              "      fill: #FFFFFF;\n",
              "    }\n",
              "  </style>\n",
              "\n",
              "      <script>\n",
              "        const buttonEl =\n",
              "          document.querySelector('#df-89423554-2534-42a6-b981-7d0ee8b90bc2 button.colab-df-convert');\n",
              "        buttonEl.style.display =\n",
              "          google.colab.kernel.accessAllowed ? 'block' : 'none';\n",
              "\n",
              "        async function convertToInteractive(key) {\n",
              "          const element = document.querySelector('#df-89423554-2534-42a6-b981-7d0ee8b90bc2');\n",
              "          const dataTable =\n",
              "            await google.colab.kernel.invokeFunction('convertToInteractive',\n",
              "                                                     [key], {});\n",
              "          if (!dataTable) return;\n",
              "\n",
              "          const docLinkHtml = 'Like what you see? Visit the ' +\n",
              "            '<a target=\"_blank\" href=https://colab.research.google.com/notebooks/data_table.ipynb>data table notebook</a>'\n",
              "            + ' to learn more about interactive tables.';\n",
              "          element.innerHTML = '';\n",
              "          dataTable['output_type'] = 'display_data';\n",
              "          await google.colab.output.renderOutput(dataTable, element);\n",
              "          const docLink = document.createElement('div');\n",
              "          docLink.innerHTML = docLinkHtml;\n",
              "          element.appendChild(docLink);\n",
              "        }\n",
              "      </script>\n",
              "    </div>\n",
              "  </div>\n",
              "  "
            ]
          },
          "metadata": {},
          "execution_count": 113
        }
      ]
    },
    {
      "cell_type": "code",
      "source": [
        "# Graficamos el performance del modelo y el error\n",
        "results['mean_test_score'].plot(yerr=[results['std_test_score'], results['std_test_score']], subplots=True)\n",
        "\n",
        "plt.ylabel('Mean test score')\n",
        "plt.xlabel('Combinaciones de hiperparametros')"
      ],
      "metadata": {
        "colab": {
          "base_uri": "https://localhost:8080/",
          "height": 296
        },
        "id": "UGO7u7kWO8dH",
        "outputId": "9b98fc8f-05b9-46e0-f25f-aea867cf5e08"
      },
      "execution_count": 114,
      "outputs": [
        {
          "output_type": "execute_result",
          "data": {
            "text/plain": [
              "Text(0.5, 0, 'Combinaciones de hiperparametros')"
            ]
          },
          "metadata": {},
          "execution_count": 114
        },
        {
          "output_type": "display_data",
          "data": {
            "text/plain": [
              "<Figure size 432x288 with 1 Axes>"
            ],
            "image/png": "[encoded data removed]"
          },
          "metadata": {
            "needs_background": "light"
          }
        }
      ]
    },
    {
      "cell_type": "markdown",
      "source": [
        "### Ejercicio 04"
      ],
      "metadata": {
        "id": "diZuFBJ2HXTd"
      }
    },
    {
      "cell_type": "markdown",
      "source": [
        "Ajusta un __lgbm__ y tunea sus hiperparametros con `.GridSearchCV/RandomizedSearchCV`"
      ],
      "metadata": {
        "id": "91_TpCmBIGG_"
      }
    },
    {
      "cell_type": "code",
      "source": [
        "# Respuesta\n",
        "import lightgbm as lgb"
      ],
      "metadata": {
        "id": "cWfxkHJxHa0d"
      },
      "execution_count": 79,
      "outputs": []
    },
    {
      "cell_type": "code",
      "source": [
        "lgbm= lgb.LGBMClassifier()"
      ],
      "metadata": {
        "id": "iFLHwUoxrigm"
      },
      "execution_count": 115,
      "outputs": []
    },
    {
      "cell_type": "code",
      "source": [
        "param_grid={'n_estimators':list(range(40,70)),\n",
        "            'learning_rate':stats.uniform(0.001,0.9),\n",
        "            'reg_lambda':stats.uniform(1,15),\n",
        "            'max_depth':stats.randint(40,50)\n",
        "\n",
        "}"
      ],
      "metadata": {
        "id": "ucAO28cvrtF3"
      },
      "execution_count": 117,
      "outputs": []
    },
    {
      "cell_type": "code",
      "source": [
        "rand_lgbm_search=RandomizedSearchCV(lgbm,\n",
        "                             param_grid,\n",
        "                             scoring='roc_auc',\n",
        "                             cv=3,\n",
        "                             n_iter=20,\n",
        "                             random_state=10,\n",
        "                             n_jobs=-1,\n",
        "                             refit=True)"
      ],
      "metadata": {
        "id": "4ZAkZnYAsWMt"
      },
      "execution_count": 121,
      "outputs": []
    },
    {
      "cell_type": "code",
      "source": [
        "%%time\n",
        "rand_lgbm_search.fit(X_train,y_train)"
      ],
      "metadata": {
        "colab": {
          "base_uri": "https://localhost:8080/"
        },
        "id": "XoW3PjwcQ_BO",
        "outputId": "96316850-52d6-4bee-c06a-fda1244d7fe9"
      },
      "execution_count": 124,
      "outputs": [
        {
          "output_type": "stream",
          "name": "stdout",
          "text": [
            "CPU times: user 178 ms, sys: 4.92 ms, total: 183 ms\n",
            "Wall time: 1.42 s\n"
          ]
        },
        {
          "output_type": "execute_result",
          "data": {
            "text/plain": [
              "RandomizedSearchCV(cv=3, estimator=LGBMClassifier(), n_iter=20, n_jobs=-1,\n",
              "                   param_distributions={'learning_rate': <scipy.stats._distn_infrastructure.rv_frozen object at 0x7fc031c1a150>,\n",
              "                                        'max_depth': <scipy.stats._distn_infrastructure.rv_frozen object at 0x7fc031c22350>,\n",
              "                                        'n_estimators': [40, 41, 42, 43, 44, 45,\n",
              "                                                         46, 47, 48, 49, 50, 51,\n",
              "                                                         52, 53, 54, 55, 56, 57,\n",
              "                                                         58, 59, 60, 61, 62, 63,\n",
              "                                                         64, 65, 66, 67, 68,\n",
              "                                                         69],\n",
              "                                        'reg_lambda': <scipy.stats._distn_infrastructure.rv_frozen object at 0x7fc031c1af50>},\n",
              "                   random_state=10, scoring='roc_auc')"
            ]
          },
          "metadata": {},
          "execution_count": 124
        }
      ]
    },
    {
      "cell_type": "code",
      "source": [
        "rand_lgbm_search.best_params_"
      ],
      "metadata": {
        "colab": {
          "base_uri": "https://localhost:8080/"
        },
        "id": "sfDvHoUct1Ms",
        "outputId": "fa5a08fb-a3be-4b27-e44a-10ef670535ea"
      },
      "execution_count": 125,
      "outputs": [
        {
          "output_type": "execute_result",
          "data": {
            "text/plain": [
              "{'learning_rate': 0.2996940301009452,\n",
              " 'max_depth': 49,\n",
              " 'n_estimators': 55,\n",
              " 'reg_lambda': 6.032494697798049}"
            ]
          },
          "metadata": {},
          "execution_count": 125
        }
      ]
    },
    {
      "cell_type": "code",
      "source": [
        "y_pred=rand_lgbm_search.predict(X_val)"
      ],
      "metadata": {
        "id": "eLC2INzNtWVJ"
      },
      "execution_count": 126,
      "outputs": []
    },
    {
      "cell_type": "code",
      "source": [
        "print(classification_report(y_val,y_pred))\n",
        "print('-'*30)\n",
        "print(roc_auc_score(y_val,y_pred))"
      ],
      "metadata": {
        "colab": {
          "base_uri": "https://localhost:8080/"
        },
        "id": "bgm7eWGWtj0h",
        "outputId": "185ffb33-61c9-4b13-b31f-056c2e225902"
      },
      "execution_count": 127,
      "outputs": [
        {
          "output_type": "stream",
          "name": "stdout",
          "text": [
            "              precision    recall  f1-score   support\n",
            "\n",
            "           0       0.97      0.96      0.97        78\n",
            "           1       0.93      0.95      0.94        41\n",
            "\n",
            "    accuracy                           0.96       119\n",
            "   macro avg       0.95      0.96      0.95       119\n",
            "weighted avg       0.96      0.96      0.96       119\n",
            "\n",
            "------------------------------\n",
            "0.9563789868667918\n"
          ]
        }
      ]
    },
    {
      "cell_type": "code",
      "source": [
        "results = (pd.DataFrame(rand_lgbm_search.cv_results_)\n",
        "             .sort_values(by='mean_test_score', ascending=False)\n",
        "             .reset_index(drop=True))\n",
        "(results\n",
        " .loc[:,['param_max_depth',  \n",
        "         'param_n_estimators',\n",
        "         'mean_test_score', \n",
        "         'std_test_score',]]\n",
        " .head(3))"
      ],
      "metadata": {
        "colab": {
          "base_uri": "https://localhost:8080/",
          "height": 143
        },
        "id": "vzyCYnm0UEy_",
        "outputId": "2caeebf8-10d8-45b6-eb8b-c7608597b32f"
      },
      "execution_count": 128,
      "outputs": [
        {
          "output_type": "execute_result",
          "data": {
            "text/plain": [
              "  param_max_depth param_n_estimators  mean_test_score  std_test_score\n",
              "0              49                 55         0.990409        0.004632\n",
              "1              49                 69         0.990157        0.004626\n",
              "2              45                 53         0.990084        0.004411"
            ],
            "text/html": [
              "\n",
              "  <div id=\"df-8e245d87-7460-443e-8c71-8585a7ac4e82\">\n",
              "    <div class=\"colab-df-container\">\n",
              "      <div>\n",
              "<style scoped>\n",
              "    .dataframe tbody tr th:only-of-type {\n",
              "        vertical-align: middle;\n",
              "    }\n",
              "\n",
              "    .dataframe tbody tr th {\n",
              "        vertical-align: top;\n",
              "    }\n",
              "\n",
              "    .dataframe thead th {\n",
              "        text-align: right;\n",
              "    }\n",
              "</style>\n",
              "<table border=\"1\" class=\"dataframe\">\n",
              "  <thead>\n",
              "    <tr style=\"text-align: right;\">\n",
              "      <th></th>\n",
              "      <th>param_max_depth</th>\n",
              "      <th>param_n_estimators</th>\n",
              "      <th>mean_test_score</th>\n",
              "      <th>std_test_score</th>\n",
              "    </tr>\n",
              "  </thead>\n",
              "  <tbody>\n",
              "    <tr>\n",
              "      <th>0</th>\n",
              "      <td>49</td>\n",
              "      <td>55</td>\n",
              "      <td>0.990409</td>\n",
              "      <td>0.004632</td>\n",
              "    </tr>\n",
              "    <tr>\n",
              "      <th>1</th>\n",
              "      <td>49</td>\n",
              "      <td>69</td>\n",
              "      <td>0.990157</td>\n",
              "      <td>0.004626</td>\n",
              "    </tr>\n",
              "    <tr>\n",
              "      <th>2</th>\n",
              "      <td>45</td>\n",
              "      <td>53</td>\n",
              "      <td>0.990084</td>\n",
              "      <td>0.004411</td>\n",
              "    </tr>\n",
              "  </tbody>\n",
              "</table>\n",
              "</div>\n",
              "      <button class=\"colab-df-convert\" onclick=\"convertToInteractive('df-8e245d87-7460-443e-8c71-8585a7ac4e82')\"\n",
              "              title=\"Convert this dataframe to an interactive table.\"\n",
              "              style=\"display:none;\">\n",
              "        \n",
              "  <svg xmlns=\"http://www.w3.org/2000/svg\" height=\"24px\"viewBox=\"0 0 24 24\"\n",
              "       width=\"24px\">\n",
              "    <path d=\"M0 0h24v24H0V0z\" fill=\"none\"/>\n",
              "    <path d=\"M18.56 5.44l.94 2.06.94-2.06 2.06-.94-2.06-.94-.94-2.06-.94 2.06-2.06.94zm-11 1L8.5 8.5l.94-2.06 2.06-.94-2.06-.94L8.5 2.5l-.94 2.06-2.06.94zm10 10l.94 2.06.94-2.06 2.06-.94-2.06-.94-.94-2.06-.94 2.06-2.06.94z\"/><path d=\"M17.41 7.96l-1.37-1.37c-.4-.4-.92-.59-1.43-.59-.52 0-1.04.2-1.43.59L10.3 9.45l-7.72 7.72c-.78.78-.78 2.05 0 2.83L4 21.41c.39.39.9.59 1.41.59.51 0 1.02-.2 1.41-.59l7.78-7.78 2.81-2.81c.8-.78.8-2.07 0-2.86zM5.41 20L4 18.59l7.72-7.72 1.47 1.35L5.41 20z\"/>\n",
              "  </svg>\n",
              "      </button>\n",
              "      \n",
              "  <style>\n",
              "    .colab-df-container {\n",
              "      display:flex;\n",
              "      flex-wrap:wrap;\n",
              "      gap: 12px;\n",
              "    }\n",
              "\n",
              "    .colab-df-convert {\n",
              "      background-color: #E8F0FE;\n",
              "      border: none;\n",
              "      border-radius: 50%;\n",
              "      cursor: pointer;\n",
              "      display: none;\n",
              "      fill: #1967D2;\n",
              "      height: 32px;\n",
              "      padding: 0 0 0 0;\n",
              "      width: 32px;\n",
              "    }\n",
              "\n",
              "    .colab-df-convert:hover {\n",
              "      background-color: #E2EBFA;\n",
              "      box-shadow: 0px 1px 2px rgba(60, 64, 67, 0.3), 0px 1px 3px 1px rgba(60, 64, 67, 0.15);\n",
              "      fill: #174EA6;\n",
              "    }\n",
              "\n",
              "    [theme=dark] .colab-df-convert {\n",
              "      background-color: #3B4455;\n",
              "      fill: #D2E3FC;\n",
              "    }\n",
              "\n",
              "    [theme=dark] .colab-df-convert:hover {\n",
              "      background-color: #434B5C;\n",
              "      box-shadow: 0px 1px 3px 1px rgba(0, 0, 0, 0.15);\n",
              "      filter: drop-shadow(0px 1px 2px rgba(0, 0, 0, 0.3));\n",
              "      fill: #FFFFFF;\n",
              "    }\n",
              "  </style>\n",
              "\n",
              "      <script>\n",
              "        const buttonEl =\n",
              "          document.querySelector('#df-8e245d87-7460-443e-8c71-8585a7ac4e82 button.colab-df-convert');\n",
              "        buttonEl.style.display =\n",
              "          google.colab.kernel.accessAllowed ? 'block' : 'none';\n",
              "\n",
              "        async function convertToInteractive(key) {\n",
              "          const element = document.querySelector('#df-8e245d87-7460-443e-8c71-8585a7ac4e82');\n",
              "          const dataTable =\n",
              "            await google.colab.kernel.invokeFunction('convertToInteractive',\n",
              "                                                     [key], {});\n",
              "          if (!dataTable) return;\n",
              "\n",
              "          const docLinkHtml = 'Like what you see? Visit the ' +\n",
              "            '<a target=\"_blank\" href=https://colab.research.google.com/notebooks/data_table.ipynb>data table notebook</a>'\n",
              "            + ' to learn more about interactive tables.';\n",
              "          element.innerHTML = '';\n",
              "          dataTable['output_type'] = 'display_data';\n",
              "          await google.colab.output.renderOutput(dataTable, element);\n",
              "          const docLink = document.createElement('div');\n",
              "          docLink.innerHTML = docLinkHtml;\n",
              "          element.appendChild(docLink);\n",
              "        }\n",
              "      </script>\n",
              "    </div>\n",
              "  </div>\n",
              "  "
            ]
          },
          "metadata": {},
          "execution_count": 128
        }
      ]
    },
    {
      "cell_type": "code",
      "source": [
        "# Graficamos el performance del modelo y el error\n",
        "results['mean_test_score'].plot(yerr=[results['std_test_score'], results['std_test_score']], subplots=True)\n",
        "\n",
        "plt.ylabel('Mean test score')\n",
        "plt.xlabel('Combinaciones de hiperparametros')"
      ],
      "metadata": {
        "colab": {
          "base_uri": "https://localhost:8080/",
          "height": 296
        },
        "id": "JIf_j9IgUUH9",
        "outputId": "34d98001-7176-4fe4-f82f-88babdf6983e"
      },
      "execution_count": 129,
      "outputs": [
        {
          "output_type": "execute_result",
          "data": {
            "text/plain": [
              "Text(0.5, 0, 'Combinaciones de hiperparametros')"
            ]
          },
          "metadata": {},
          "execution_count": 129
        },
        {
          "output_type": "display_data",
          "data": {
            "text/plain": [
              "<Figure size 432x288 with 1 Axes>"
            ],
            "image/png": "[encoded data removed]"
          },
          "metadata": {
            "needs_background": "light"
          }
        }
      ]
    },
    {
      "cell_type": "markdown",
      "source": [
        "### Ejercicio 05"
      ],
      "metadata": {
        "id": "I4BiwMaTHcZc"
      }
    },
    {
      "cell_type": "markdown",
      "source": [
        "Usa test para evaluar todos los modelos, ¿Cual es el mejor modelo?"
      ],
      "metadata": {
        "id": "Vt3xpleTIICB"
      }
    },
    {
      "cell_type": "code",
      "source": [
        "# Respuesta\n",
        "from sklearn.metrics import roc_curve\n",
        "from sklearn.metrics import roc_auc_score, plot_roc_curve"
      ],
      "metadata": {
        "id": "_UvLIqvuHghP"
      },
      "execution_count": 130,
      "outputs": []
    },
    {
      "cell_type": "code",
      "source": [
        "lr_c=plot_roc_curve(rand_lr_search,X_test,y_test)\n",
        "lgbm_c=plot_roc_curve(rand_lgbm_search,X_test,y_test)\n",
        "xgb_c=plot_roc_curve(rand_xgb_search,X_test,y_test)\n"
      ],
      "metadata": {
        "colab": {
          "base_uri": "https://localhost:8080/",
          "height": 927
        },
        "id": "zBMtZqVNuXmt",
        "outputId": "be66c633-21df-432d-8ed0-7ade943043cb"
      },
      "execution_count": 133,
      "outputs": [
        {
          "output_type": "stream",
          "name": "stderr",
          "text": [
            "/usr/local/lib/python3.7/dist-packages/sklearn/utils/deprecation.py:87: FutureWarning: Function plot_roc_curve is deprecated; Function :func:`plot_roc_curve` is deprecated in 1.0 and will be removed in 1.2. Use one of the class methods: :meth:`sklearn.metric.RocCurveDisplay.from_predictions` or :meth:`sklearn.metric.RocCurveDisplay.from_estimator`.\n",
            "  warnings.warn(msg, category=FutureWarning)\n",
            "/usr/local/lib/python3.7/dist-packages/sklearn/utils/deprecation.py:87: FutureWarning: Function plot_roc_curve is deprecated; Function :func:`plot_roc_curve` is deprecated in 1.0 and will be removed in 1.2. Use one of the class methods: :meth:`sklearn.metric.RocCurveDisplay.from_predictions` or :meth:`sklearn.metric.RocCurveDisplay.from_estimator`.\n",
            "  warnings.warn(msg, category=FutureWarning)\n",
            "/usr/local/lib/python3.7/dist-packages/sklearn/utils/deprecation.py:87: FutureWarning: Function plot_roc_curve is deprecated; Function :func:`plot_roc_curve` is deprecated in 1.0 and will be removed in 1.2. Use one of the class methods: :meth:`sklearn.metric.RocCurveDisplay.from_predictions` or :meth:`sklearn.metric.RocCurveDisplay.from_estimator`.\n",
            "  warnings.warn(msg, category=FutureWarning)\n"
          ]
        },
        {
          "output_type": "display_data",
          "data": {
            "text/plain": [
              "<Figure size 432x288 with 1 Axes>"
            ],
            "image/png": "[encoded data removed]"
          },
          "metadata": {
            "needs_background": "light"
          }
        },
        {
          "output_type": "display_data",
          "data": {
            "text/plain": [
              "<Figure size 432x288 with 1 Axes>"
            ],
            "image/png": "[encoded data removed]"
          },
          "metadata": {
            "needs_background": "light"
          }
        },
        {
          "output_type": "display_data",
          "data": {
            "text/plain": [
              "<Figure size 432x288 with 1 Axes>"
            ],
            "image/png": "[encoded data removed]"
          },
          "metadata": {
            "needs_background": "light"
          }
        }
      ]
    },
    {
      "cell_type": "code",
      "source": [
        "ax = plt.gca()\n",
        "lr_c.plot(ax=ax,alpha=0.8,label='Logistic Regression')\n",
        "lgbm_c.plot(ax=ax,alpha=0.8,label='LGBM')\n",
        "xgb_c.plot(ax=ax,alpha=0.8,label='XGB_Classifier')"
      ],
      "metadata": {
        "colab": {
          "base_uri": "https://localhost:8080/",
          "height": 296
        },
        "id": "EXbsc51buy_u",
        "outputId": "2d32aeec-de3f-4353-c192-291a2df373ec"
      },
      "execution_count": 135,
      "outputs": [
        {
          "output_type": "execute_result",
          "data": {
            "text/plain": [
              "<sklearn.metrics._plot.roc_curve.RocCurveDisplay at 0x7fc0319c6090>"
            ]
          },
          "metadata": {},
          "execution_count": 135
        },
        {
          "output_type": "display_data",
          "data": {
            "text/plain": [
              "<Figure size 432x288 with 1 Axes>"
            ],
            "image/png": "[encoded data removed]"
          },
          "metadata": {
            "needs_background": "light"
          }
        }
      ]
    },
    {
      "cell_type": "markdown",
      "source": [
        "## Proyecto ML"
      ],
      "metadata": {
        "id": "mbaE6HnJPV4d"
      }
    },
    {
      "cell_type": "markdown",
      "source": [
        "La idea del siguiente proyecto es emular una competencia de kaggle, se entregara un conjunto de datos y el objetivo es: \n",
        "\n",
        "__Ajustar el mejor modelo que optimice el `F1 score`__\n",
        "\n",
        "Los datos (se encuentran en la carpeta compartida dentro de 00_DATA) estan divididos en train y en test:\n",
        "\n",
        "* `fraud_train.csv` contiene los datos que serán usados para entrenar\n",
        "* `fraud_test.csv` contiene datos que deben ser scoreados (No contiene variable target)\n",
        "\n",
        "Se debe entregar un csv con una columa que contenga los pronosticos para cada uno de los registros en `fraud_test.csv`.\n",
        "\n",
        "Las etiquetas correctas del archivo `fraud_test.csv` las tenemos nosotros, las usaremos para comparar sus respuestas y definir quienes son los ganadores del proyecto"
      ],
      "metadata": {
        "id": "fTFaR4tBPeV_"
      }
    },
    {
      "cell_type": "code",
      "source": [
        "# Linea de ayuda para montar el drive y usar como disco duro (para leer y escribir datos) google drive desde colab\n",
        "from google.colab import drive\n",
        "drive.mount('/content/drive')"
      ],
      "metadata": {
        "id": "NAI9f5DLu1VN"
      },
      "execution_count": null,
      "outputs": []
    },
    {
      "cell_type": "code",
      "source": [
        "# Respuesta\n"
      ],
      "metadata": {
        "id": "GSdTGfTYu1dP"
      },
      "execution_count": null,
      "outputs": []
    }
  ]
}